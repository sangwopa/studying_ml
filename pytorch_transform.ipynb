{
 "cells": [
  {
   "cell_type": "code",
   "execution_count": 1,
   "id": "5823f820",
   "metadata": {},
   "outputs": [],
   "source": [
    "# 알고리즘 학습에 가능한 형태로 데이터를 변형(transform)\n",
    "import torch\n",
    "from torchvision import datasets\n",
    "from torchvision.transforms import ToTensor, Lambda"
   ]
  },
  {
   "cell_type": "code",
   "execution_count": 2,
   "id": "d4d321b8",
   "metadata": {},
   "outputs": [],
   "source": [
    "ds = datasets.FashionMNIST(\n",
    "    root=\"./content/data_fashionmnist\",\n",
    "    train=True,\n",
    "    download=False,\n",
    "    transform=ToTensor(),\n",
    "    target_transform=Lambda(lambda y: torch.zeros(10, dtype=torch.float).scatter_(0, torch.tensor(y), value=1))\n",
    ")"
   ]
  },
  {
   "cell_type": "code",
   "execution_count": 3,
   "id": "a64a822e",
   "metadata": {},
   "outputs": [
    {
     "name": "stdout",
     "output_type": "stream",
     "text": [
      "Dataset FashionMNIST\n",
      "    Number of datapoints: 60000\n",
      "    Root location: ./content/data_fashionmnist\n",
      "    Split: Train\n",
      "    StandardTransform\n",
      "Transform: ToTensor()\n",
      "Target transform: Lambda()\n"
     ]
    }
   ],
   "source": [
    "print(ds)"
   ]
  },
  {
   "cell_type": "code",
   "execution_count": null,
   "id": "e7b38085",
   "metadata": {},
   "outputs": [],
   "source": [
    "# ToTensor\n",
    "# PIL Image 또는 ndarray를 FloatTensor로 변환\n",
    "# 이미지의 픽셀 크기 값을 [0., 1.] 범위로 비례하여 조정\n",
    "# lambda 변형\n",
    "# 사용자 정의 람다 함수\n",
    "# 위의 람다 함수는 10 짜리 zero tensor를 만든 후, 주어진 정답에 해당 하는 y에 1 할당\n",
    "# -> 원 핫 인코딩\n"
   ]
  }
 ],
 "metadata": {
  "kernelspec": {
   "display_name": "Python 3 (ipykernel)",
   "language": "python",
   "name": "python3"
  },
  "language_info": {
   "codemirror_mode": {
    "name": "ipython",
    "version": 3
   },
   "file_extension": ".py",
   "mimetype": "text/x-python",
   "name": "python",
   "nbconvert_exporter": "python",
   "pygments_lexer": "ipython3",
   "version": "3.9.13"
  }
 },
 "nbformat": 4,
 "nbformat_minor": 5
}
