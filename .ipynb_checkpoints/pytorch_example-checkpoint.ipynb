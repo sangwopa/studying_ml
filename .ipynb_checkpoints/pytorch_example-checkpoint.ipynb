{
 "cells": [
  {
   "cell_type": "code",
   "execution_count": 2,
   "id": "a19b57db",
   "metadata": {},
   "outputs": [],
   "source": [
    "# pytorch 데이터 작업\n",
    "# Dataset: 샘플과 정답(label) 저장\n",
    "# DataLoader: Dataset을 순회 가능한 객체로 감쌈\n",
    "\n",
    "\n",
    "import torch\n",
    "from torch import nn\n",
    "from torch.utils.data import DataLoader\n",
    "from torchvision import datasets\n",
    "from torchvision.transforms import ToTensor"
   ]
  },
  {
   "cell_type": "code",
   "execution_count": 3,
   "id": "83bf52f7",
   "metadata": {},
   "outputs": [
    {
     "name": "stdout",
     "output_type": "stream",
     "text": [
      "Downloading http://fashion-mnist.s3-website.eu-central-1.amazonaws.com/train-images-idx3-ubyte.gz\n",
      "Downloading http://fashion-mnist.s3-website.eu-central-1.amazonaws.com/train-images-idx3-ubyte.gz to ./content/data_fashionmnist\\FashionMNIST\\raw\\train-images-idx3-ubyte.gz\n"
     ]
    },
    {
     "data": {
      "application/vnd.jupyter.widget-view+json": {
       "model_id": "a21184fd8cd046c09ac44c1504c63e9e",
       "version_major": 2,
       "version_minor": 0
      },
      "text/plain": [
       "  0%|          | 0/26421880 [00:00<?, ?it/s]"
      ]
     },
     "metadata": {},
     "output_type": "display_data"
    },
    {
     "name": "stdout",
     "output_type": "stream",
     "text": [
      "Extracting ./content/data_fashionmnist\\FashionMNIST\\raw\\train-images-idx3-ubyte.gz to ./content/data_fashionmnist\\FashionMNIST\\raw\n",
      "\n",
      "Downloading http://fashion-mnist.s3-website.eu-central-1.amazonaws.com/train-labels-idx1-ubyte.gz\n",
      "Downloading http://fashion-mnist.s3-website.eu-central-1.amazonaws.com/train-labels-idx1-ubyte.gz to ./content/data_fashionmnist\\FashionMNIST\\raw\\train-labels-idx1-ubyte.gz\n"
     ]
    },
    {
     "data": {
      "application/vnd.jupyter.widget-view+json": {
       "model_id": "3974e1474db043e69be07fa19491f350",
       "version_major": 2,
       "version_minor": 0
      },
      "text/plain": [
       "  0%|          | 0/29515 [00:00<?, ?it/s]"
      ]
     },
     "metadata": {},
     "output_type": "display_data"
    },
    {
     "name": "stdout",
     "output_type": "stream",
     "text": [
      "Extracting ./content/data_fashionmnist\\FashionMNIST\\raw\\train-labels-idx1-ubyte.gz to ./content/data_fashionmnist\\FashionMNIST\\raw\n",
      "\n",
      "Downloading http://fashion-mnist.s3-website.eu-central-1.amazonaws.com/t10k-images-idx3-ubyte.gz\n",
      "Downloading http://fashion-mnist.s3-website.eu-central-1.amazonaws.com/t10k-images-idx3-ubyte.gz to ./content/data_fashionmnist\\FashionMNIST\\raw\\t10k-images-idx3-ubyte.gz\n"
     ]
    },
    {
     "data": {
      "application/vnd.jupyter.widget-view+json": {
       "model_id": "b93fbf73146344b9a8d32cd6e0d7ffff",
       "version_major": 2,
       "version_minor": 0
      },
      "text/plain": [
       "  0%|          | 0/4422102 [00:00<?, ?it/s]"
      ]
     },
     "metadata": {},
     "output_type": "display_data"
    },
    {
     "name": "stdout",
     "output_type": "stream",
     "text": [
      "Extracting ./content/data_fashionmnist\\FashionMNIST\\raw\\t10k-images-idx3-ubyte.gz to ./content/data_fashionmnist\\FashionMNIST\\raw\n",
      "\n",
      "Downloading http://fashion-mnist.s3-website.eu-central-1.amazonaws.com/t10k-labels-idx1-ubyte.gz\n",
      "Downloading http://fashion-mnist.s3-website.eu-central-1.amazonaws.com/t10k-labels-idx1-ubyte.gz to ./content/data_fashionmnist\\FashionMNIST\\raw\\t10k-labels-idx1-ubyte.gz\n"
     ]
    },
    {
     "data": {
      "application/vnd.jupyter.widget-view+json": {
       "model_id": "9f425a23d1c745679897ddae01534498",
       "version_major": 2,
       "version_minor": 0
      },
      "text/plain": [
       "  0%|          | 0/5148 [00:00<?, ?it/s]"
      ]
     },
     "metadata": {},
     "output_type": "display_data"
    },
    {
     "name": "stdout",
     "output_type": "stream",
     "text": [
      "Extracting ./content/data_fashionmnist\\FashionMNIST\\raw\\t10k-labels-idx1-ubyte.gz to ./content/data_fashionmnist\\FashionMNIST\\raw\n",
      "\n",
      "Dataset FashionMNIST\n",
      "    Number of datapoints: 60000\n",
      "    Root location: ./content/data_fashionmnist\n",
      "    Split: Train\n",
      "    StandardTransform\n",
      "Transform: ToTensor()\n",
      "Dataset FashionMNIST\n",
      "    Number of datapoints: 10000\n",
      "    Root location: ./content/data_fashionmnist\n",
      "    Split: Test\n",
      "    StandardTransform\n",
      "Transform: ToTensor()\n"
     ]
    }
   ],
   "source": [
    "import os\n",
    "\n",
    "# 학습된 모델의 가중치를 저장할 폴더를 만듭니다.\n",
    "os.makedirs('./content/data_fashionmnist', exist_ok=True)\n",
    "\n",
    "path2data = \"./content/data_fashionmnist\"\n",
    "\n",
    "training_data = datasets.FashionMNIST(\n",
    "    path2data,\n",
    "    train = True,\n",
    "    download = True,\n",
    "    transform = ToTensor()\n",
    ")\n",
    "\n",
    "test_data = datasets.FashionMNIST(\n",
    "    path2data,\n",
    "    train = False,\n",
    "    download = True,\n",
    "    transform = ToTensor()    \n",
    ")\n",
    "\n",
    "print(training_data)\n",
    "print(test_data)"
   ]
  },
  {
   "cell_type": "code",
   "execution_count": 4,
   "id": "959a4f12",
   "metadata": {},
   "outputs": [
    {
     "name": "stdout",
     "output_type": "stream",
     "text": [
      "Shape of X [N, C, H, W]: torch.Size([64, 1, 28, 28])\n",
      "Shape of y: torch.Size([64]) torch.int64\n"
     ]
    }
   ],
   "source": [
    "# dataset을 dataloader의 인자로 전달\n",
    "# 데이터를 순회 가능한 개체로 감싸고, 자동 batch, 샘플링, 섞기, 다중 프로세스로 데이터 불러오기 지원\n",
    "\n",
    "batch_size = 64\n",
    "\n",
    "# 데이터 로더 생성\n",
    "train_dataloader = DataLoader(training_data, batch_size=batch_size)\n",
    "test_dataloader = DataLoader(test_data, batch_size=batch_size)\n",
    "\n",
    "for X, y in test_dataloader:\n",
    "    print(f\"Shape of X [N, C, H, W]: {X.shape}\")\n",
    "    print(f\"Shape of y: {y.shape} {y.dtype}\")\n",
    "    break"
   ]
  },
  {
   "cell_type": "code",
   "execution_count": 5,
   "id": "d29b3efc",
   "metadata": {},
   "outputs": [
    {
     "name": "stdout",
     "output_type": "stream",
     "text": [
      "No GPU available, using the CPU instead.\n"
     ]
    }
   ],
   "source": [
    "# device 정의\n",
    "if torch.cuda.is_available():    \n",
    "    device = torch.device(\"cuda\")\n",
    "    print('There are %d GPU(s) available.' % torch.cuda.device_count())\n",
    "    print('We will use the GPU:', torch.cuda.get_device_name(0))\n",
    "\n",
    "else:\n",
    "    print('No GPU available, using the CPU instead.')\n",
    "    device = torch.device(\"cpu\")"
   ]
  },
  {
   "cell_type": "code",
   "execution_count": 6,
   "id": "ca04c12e",
   "metadata": {},
   "outputs": [
    {
     "name": "stdout",
     "output_type": "stream",
     "text": [
      "NeuralNetwork(\n",
      "  (flatten): Flatten(start_dim=1, end_dim=-1)\n",
      "  (linear_relu_stack): Sequential(\n",
      "    (0): Linear(in_features=784, out_features=512, bias=True)\n",
      "    (1): ReLU()\n",
      "    (2): Linear(in_features=512, out_features=512, bias=True)\n",
      "    (3): ReLU()\n",
      "    (4): Linear(in_features=512, out_features=10, bias=True)\n",
      "  )\n",
      ")\n"
     ]
    }
   ],
   "source": [
    "# 모델 정의\n",
    "class NeuralNetwork(nn.Module):\n",
    "    def __init__(self):\n",
    "        super().__init__()\n",
    "        self.flatten = nn.Flatten()\n",
    "        self.linear_relu_stack = nn.Sequential(\n",
    "            nn.Linear(28*28, 512),\n",
    "            nn.ReLU(),\n",
    "            nn.Linear(512, 512),\n",
    "            nn.ReLU(),\n",
    "            nn.Linear(512, 10)\n",
    "        )\n",
    "        \n",
    "    def forward(self, x):\n",
    "        x = self.flatten(x)\n",
    "        logits = self.linear_relu_stack(x)\n",
    "        return logits\n",
    "    \n",
    "model = NeuralNetwork().to(device)\n",
    "print(model)"
   ]
  },
  {
   "cell_type": "code",
   "execution_count": 7,
   "id": "e1ffbcfa",
   "metadata": {},
   "outputs": [],
   "source": [
    "# 손실 함수, 옵티마이저 정의\n",
    "loss_fn = nn.CrossEntropyLoss()\n",
    "optimizer = torch.optim.SGD(model.parameters(), lr=1e-3)"
   ]
  },
  {
   "cell_type": "code",
   "execution_count": 11,
   "id": "4eddb354",
   "metadata": {},
   "outputs": [],
   "source": [
    "# 훈련 함수 정의\n",
    "def train(dataloader, model, loss_fn, optimizer):\n",
    "    size = len(dataloader.dataset)\n",
    "    for batch, (X, y) in enumerate(dataloader):\n",
    "        X, y = X.to(device), y.to(device)\n",
    "        \n",
    "        # 예측 오류 계산\n",
    "        pred = model(X)\n",
    "        loss = loss_fn(pred, y)\n",
    "        \n",
    "        # 역전파\n",
    "        optimizer.zero_grad()\n",
    "        loss.backward()\n",
    "        optimizer.step()\n",
    "        \n",
    "        if batch % 100 == 0:\n",
    "            loss, current = loss.item(), batch * len(X)\n",
    "            print(f\"loss: {loss:>7f}  [{current:>5d}/{size:>5d}]\")"
   ]
  },
  {
   "cell_type": "code",
   "execution_count": 9,
   "id": "ca384697",
   "metadata": {},
   "outputs": [],
   "source": [
    "# 테스트 데이터 셋을 통해 모델 성능 확인\n",
    "def test(dataloader, model, loss_fn):\n",
    "    size = len(dataloader.dataset)\n",
    "    num_batches = len(dataloader)\n",
    "    model.eval()\n",
    "    test_loss, correct = 0, 0\n",
    "    with torch.no_grad():\n",
    "        for X, y in dataloader:\n",
    "            X, y = X.to(device), y.to(device)\n",
    "            pred = model(X)\n",
    "            test_loss += loss_fn(pred, y).item()\n",
    "            correct += (pred.argmax(1)==y).type(torch.float).sum().item()\n",
    "        test_loss /= num_batches\n",
    "        correct /= size\n",
    "        print(f\"Test Error: \\n Accuracy: {(100*correct):>0.1f}%, Avg loss: {test_loss:>8f} \\n\")\n",
    "        "
   ]
  },
  {
   "cell_type": "code",
   "execution_count": 12,
   "id": "94b73a75",
   "metadata": {},
   "outputs": [
    {
     "name": "stdout",
     "output_type": "stream",
     "text": [
      "Epoch 1\n",
      "-------------------------------\n",
      "loss: 2.316858  [    0/60000]\n",
      "loss: 2.302408  [ 6400/60000]\n",
      "loss: 2.283689  [12800/60000]\n",
      "loss: 2.276834  [19200/60000]\n",
      "loss: 2.255952  [25600/60000]\n",
      "loss: 2.238440  [32000/60000]\n",
      "loss: 2.240188  [38400/60000]\n",
      "loss: 2.210708  [44800/60000]\n",
      "loss: 2.208508  [51200/60000]\n",
      "loss: 2.179292  [57600/60000]\n",
      "Test Error: \n",
      " Accuracy: 49.0%, Avg loss: 2.172134 \n",
      "\n",
      "Epoch 2\n",
      "-------------------------------\n",
      "loss: 2.181394  [    0/60000]\n",
      "loss: 2.174158  [ 6400/60000]\n",
      "loss: 2.120753  [12800/60000]\n",
      "loss: 2.134767  [19200/60000]\n",
      "loss: 2.084490  [25600/60000]\n",
      "loss: 2.039927  [32000/60000]\n",
      "loss: 2.060950  [38400/60000]\n",
      "loss: 1.994236  [44800/60000]\n",
      "loss: 1.998121  [51200/60000]\n",
      "loss: 1.927591  [57600/60000]\n",
      "Test Error: \n",
      " Accuracy: 58.6%, Avg loss: 1.923458 \n",
      "\n",
      "Epoch 3\n",
      "-------------------------------\n",
      "loss: 1.954257  [    0/60000]\n",
      "loss: 1.929510  [ 6400/60000]\n",
      "loss: 1.817961  [12800/60000]\n",
      "loss: 1.850630  [19200/60000]\n",
      "loss: 1.745608  [25600/60000]\n",
      "loss: 1.703746  [32000/60000]\n",
      "loss: 1.715490  [38400/60000]\n",
      "loss: 1.626296  [44800/60000]\n",
      "loss: 1.646448  [51200/60000]\n",
      "loss: 1.535270  [57600/60000]\n",
      "Test Error: \n",
      " Accuracy: 61.2%, Avg loss: 1.551577 \n",
      "\n",
      "Epoch 4\n",
      "-------------------------------\n",
      "loss: 1.616481  [    0/60000]\n",
      "loss: 1.582845  [ 6400/60000]\n",
      "loss: 1.430490  [12800/60000]\n",
      "loss: 1.492689  [19200/60000]\n",
      "loss: 1.381523  [25600/60000]\n",
      "loss: 1.375715  [32000/60000]\n",
      "loss: 1.379946  [38400/60000]\n",
      "loss: 1.315665  [44800/60000]\n",
      "loss: 1.347096  [51200/60000]\n",
      "loss: 1.239712  [57600/60000]\n",
      "Test Error: \n",
      " Accuracy: 63.2%, Avg loss: 1.266641 \n",
      "\n",
      "Epoch 5\n",
      "-------------------------------\n",
      "loss: 1.341624  [    0/60000]\n",
      "loss: 1.328053  [ 6400/60000]\n",
      "loss: 1.156483  [12800/60000]\n",
      "loss: 1.254804  [19200/60000]\n",
      "loss: 1.138223  [25600/60000]\n",
      "loss: 1.162293  [32000/60000]\n",
      "loss: 1.173793  [38400/60000]\n",
      "loss: 1.126078  [44800/60000]\n",
      "loss: 1.159730  [51200/60000]\n",
      "loss: 1.073023  [57600/60000]\n",
      "Test Error: \n",
      " Accuracy: 64.6%, Avg loss: 1.092750 \n",
      "\n",
      "Done!\n"
     ]
    }
   ],
   "source": [
    "# 학습\n",
    "epochs = 5\n",
    "for t in range(epochs):\n",
    "    print(f\"Epoch {t+1}\\n-------------------------------\")\n",
    "    train(train_dataloader, model, loss_fn, optimizer)\n",
    "    test(test_dataloader, model, loss_fn)\n",
    "print(\"Done!\")"
   ]
  },
  {
   "cell_type": "code",
   "execution_count": 13,
   "id": "aecb79fc",
   "metadata": {},
   "outputs": [
    {
     "name": "stdout",
     "output_type": "stream",
     "text": [
      "Saved PyTorch Model State to model.pth\n"
     ]
    }
   ],
   "source": [
    "# 모델 저장\n",
    "torch.save(model.state_dict(), \"./model/example_model.pth\")\n",
    "print(\"Saved PyTorch Model State to model.pth\")"
   ]
  },
  {
   "cell_type": "code",
   "execution_count": 14,
   "id": "6b638213",
   "metadata": {},
   "outputs": [
    {
     "data": {
      "text/plain": [
       "<All keys matched successfully>"
      ]
     },
     "execution_count": 14,
     "metadata": {},
     "output_type": "execute_result"
    }
   ],
   "source": [
    "# 모델 로드\n",
    "model = NeuralNetwork()\n",
    "model.load_state_dict(torch.load(\"./model/example_model.pth\"))"
   ]
  },
  {
   "cell_type": "code",
   "execution_count": 15,
   "id": "02709340",
   "metadata": {},
   "outputs": [
    {
     "name": "stdout",
     "output_type": "stream",
     "text": [
      "Predicted: \"Ankle boot\", Actual: \"Ankle boot\"\n"
     ]
    }
   ],
   "source": [
    "# 로드 한 모델로 예측 수행\n",
    "classes = [\n",
    "    \"T-shirt/top\",\n",
    "    \"Trouser\",\n",
    "    \"Pullover\",\n",
    "    \"Dress\",\n",
    "    \"Coat\",\n",
    "    \"Sandal\",\n",
    "    \"Shirt\",\n",
    "    \"Sneaker\",\n",
    "    \"Bag\",\n",
    "    \"Ankle boot\",\n",
    "]\n",
    "\n",
    "model.eval()\n",
    "x, y = test_data[0][0], test_data[0][1]\n",
    "with torch.no_grad():\n",
    "    pred = model(x)\n",
    "    predicted, actual = classes[pred[0].argmax(0)], classes[y]\n",
    "    print(f'Predicted: \"{predicted}\", Actual: \"{actual}\"')"
   ]
  },
  {
   "cell_type": "code",
   "execution_count": null,
   "id": "d8a52d38",
   "metadata": {},
   "outputs": [],
   "source": []
  }
 ],
 "metadata": {
  "kernelspec": {
   "display_name": "Python 3 (ipykernel)",
   "language": "python",
   "name": "python3"
  },
  "language_info": {
   "codemirror_mode": {
    "name": "ipython",
    "version": 3
   },
   "file_extension": ".py",
   "mimetype": "text/x-python",
   "name": "python",
   "nbconvert_exporter": "python",
   "pygments_lexer": "ipython3",
   "version": "3.9.13"
  }
 },
 "nbformat": 4,
 "nbformat_minor": 5
}
