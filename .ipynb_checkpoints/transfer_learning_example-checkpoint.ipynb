{
 "cells": [
  {
   "cell_type": "code",
   "execution_count": null,
   "id": "8e7a9ff8",
   "metadata": {},
   "outputs": [],
   "source": [
    "from tensorflow.keras.applications import VGG16\n",
    "from tensorflow.keras.layers import GlobalAveragePooling2D, Dense\n",
    "from tensorflow.keras.models import Model\n",
    "\n",
    "# 원래의 (224.224.3) -> (32,32,3)\n",
    "# include_top -> classification layer 사용 여부\n",
    "# 가중치를 imagenet으로 전이학습\n",
    "# 마지막을 softmax로 10가지 분류\n",
    "model = VGG16(input_shape=(32,32,3), include_top=False, weights='imagenet')\n",
    "output = model.output\n",
    "\n",
    "x = GlobalAveragePooling2D()(output)\n",
    "x = Dense(50, activation='relu')(x)\n",
    "output = Dense(10, activation='softmax', name='output')(x)\n",
    "\n",
    "#Functional API\n",
    "#model.output을 통해 마지막 출력 결과 반환\n",
    "model = Model(inputs=model.input,outputs=output)\n",
    "model.summary()"
   ]
  },
  {
   "cell_type": "code",
   "execution_count": null,
   "id": "170ba297",
   "metadata": {},
   "outputs": [],
   "source": []
  }
 ],
 "metadata": {
  "kernelspec": {
   "display_name": "Python 3 (ipykernel)",
   "language": "python",
   "name": "python3"
  },
  "language_info": {
   "codemirror_mode": {
    "name": "ipython",
    "version": 3
   },
   "file_extension": ".py",
   "mimetype": "text/x-python",
   "name": "python",
   "nbconvert_exporter": "python",
   "pygments_lexer": "ipython3",
   "version": "3.9.13"
  }
 },
 "nbformat": 4,
 "nbformat_minor": 5
}
