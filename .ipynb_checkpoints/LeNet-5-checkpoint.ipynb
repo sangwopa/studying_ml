{
 "cells": [
  {
   "cell_type": "code",
   "execution_count": 1,
   "id": "43defacd",
   "metadata": {},
   "outputs": [
    {
     "data": {
      "text/plain": [
       "'C:\\\\Users\\\\User\\\\Documents\\\\GitHub\\\\studying_ml'"
      ]
     },
     "execution_count": 1,
     "metadata": {},
     "output_type": "execute_result"
    }
   ],
   "source": [
    "%pwd"
   ]
  },
  {
   "cell_type": "code",
   "execution_count": 2,
   "id": "d6c12e00",
   "metadata": {},
   "outputs": [
    {
     "name": "stdout",
     "output_type": "stream",
     "text": [
      " C 드라이브의 볼륨에는 이름이 없습니다.\n",
      " 볼륨 일련 번호: 4289-02A3\n",
      "\n",
      " C:\\Users\\User\\Documents\\GitHub\\studying_ml 디렉터리\n",
      "\n",
      "2023-03-10  오후 09:37    <DIR>          .\n",
      "2023-03-10  오후 09:37    <DIR>          ..\n",
      "2023-03-10  오후 09:37    <DIR>          .ipynb_checkpoints\n",
      "2023-03-10  오후 09:37            74,086 activation_function.ipynb\n",
      "2023-03-10  오후 09:37               622 AlexNet.ipynb\n",
      "2023-03-10  오후 09:37    <DIR>          content\n",
      "2023-03-10  오후 09:37             2,831 else_function.ipynb\n",
      "2023-03-10  오후 09:37           126,612 LeNet-5.ipynb\n",
      "2023-03-10  오후 09:37    <DIR>          model\n",
      "2023-03-10  오후 09:37            16,664 pytorch_example.ipynb\n",
      "2023-03-10  오후 09:37             1,835 read_csv_parallel.ipynb\n",
      "2023-03-10  오후 09:37             7,666 Regression.ipynb\n",
      "2023-03-10  오후 09:37             5,793 transfer_learning_example.ipynb\n",
      "               8개 파일             236,109 바이트\n",
      "               5개 디렉터리  75,449,217,024 바이트 남음\n"
     ]
    }
   ],
   "source": [
    "%ls"
   ]
  },
  {
   "cell_type": "code",
   "execution_count": 3,
   "id": "3494ea3c",
   "metadata": {},
   "outputs": [],
   "source": [
    "from torchvision import transforms\n",
    "\n",
    "# MNIST 데이터에 사용할 transformation 객체 생성 및 정의\n",
    "data_transform = transforms.Compose([\n",
    "    transforms.Resize((32,32)),\n",
    "    transforms.ToTensor()\n",
    "])"
   ]
  },
  {
   "cell_type": "code",
   "execution_count": 4,
   "id": "fee84155",
   "metadata": {},
   "outputs": [
    {
     "name": "stdout",
     "output_type": "stream",
     "text": [
      "Compose(\n",
      "    Resize(size=(32, 32), interpolation=bilinear, max_size=None, antialias=None)\n",
      "    ToTensor()\n",
      ")\n"
     ]
    }
   ],
   "source": [
    "print(data_transform)"
   ]
  },
  {
   "cell_type": "code",
   "execution_count": 5,
   "id": "a3504cd5",
   "metadata": {},
   "outputs": [
    {
     "name": "stdout",
     "output_type": "stream",
     "text": [
      "Dataset MNIST\n",
      "    Number of datapoints: 60000\n",
      "    Root location: ./content/data_mnist\n",
      "    Split: Train\n",
      "    StandardTransform\n",
      "Transform: Compose(\n",
      "               Resize(size=(32, 32), interpolation=bilinear, max_size=None, antialias=None)\n",
      "               ToTensor()\n",
      "           )\n"
     ]
    }
   ],
   "source": [
    "from torchvision import datasets\n",
    "\n",
    "# 데이터 셋 저장 및 불러오기\n",
    "path2data = './content/data_mnist'\n",
    "\n",
    "training_data = datasets.MNIST(path2data, train=True, download=True, transform=data_transform)\n",
    "\n",
    "val_data = datasets.MNIST(path2data, train=False, download=True, transform=data_transform)\n",
    "\n",
    "print(training_data)"
   ]
  },
  {
   "cell_type": "code",
   "execution_count": 6,
   "id": "6a7e8c7b",
   "metadata": {},
   "outputs": [
    {
     "name": "stdout",
     "output_type": "stream",
     "text": [
      "Dataset MNIST\n",
      "    Number of datapoints: 10000\n",
      "    Root location: ./content/data_mnist\n",
      "    Split: Test\n",
      "    StandardTransform\n",
      "Transform: Compose(\n",
      "               Resize(size=(32, 32), interpolation=bilinear, max_size=None, antialias=None)\n",
      "               ToTensor()\n",
      "           )\n"
     ]
    }
   ],
   "source": [
    "print(val_data)"
   ]
  },
  {
   "cell_type": "code",
   "execution_count": 7,
   "id": "15cf20b1",
   "metadata": {},
   "outputs": [
    {
     "name": "stdout",
     "output_type": "stream",
     "text": [
      "<torch.utils.data.dataloader.DataLoader object at 0x0000026605E17A60>\n"
     ]
    }
   ],
   "source": [
    "from torch.utils.data import DataLoader\n",
    "\n",
    "#MNIST 데이터를 DataLoader로 wrapping\n",
    "train_dl = DataLoader(training_data, batch_size=32, shuffle=True)\n",
    "\n",
    "val_dl = DataLoader(val_data, batch_size=32)\n",
    "\n",
    "print(train_dl)"
   ]
  },
  {
   "cell_type": "code",
   "execution_count": 8,
   "id": "5e52e393",
   "metadata": {},
   "outputs": [
    {
     "data": {
      "image/png": "[encoded data removed]",
      "text/plain": [
       "<Figure size 432x288 with 1 Axes>"
      ]
     },
     "metadata": {
      "needs_background": "light"
     },
     "output_type": "display_data"
    }
   ],
   "source": [
    "# 샘플 이미지 확인\n",
    "from torchvision import utils\n",
    "import matplotlib.pyplot as plt\n",
    "import numpy as np\n",
    "# matplotlib 때문에 커널이 죽어서 추가\n",
    "# mkl 라이브러리가 여러곳에 있어서 중복 실행되는 문제\n",
    "import os    \n",
    "os.environ['KMP_DUPLICATE_LIB_OK']='True'\n",
    "\n",
    "%matplotlib inline\n",
    "\n",
    "#훈련데이터 추출\n",
    "x_train, y_train = training_data.data, training_data.targets\n",
    "\n",
    "# 검증데이터 추출\n",
    "x_val, y_val = val_data.data, val_data.targets\n",
    "\n",
    "# 차원 추가\n",
    "if len(x_train.shape) == 3:\n",
    "    x_train = x_train.unsqueeze(1)\n",
    "    \n",
    "if len(x_val.shape) == 3:\n",
    "    x_val = x_val.unsqueeze(1)\n",
    "\n",
    "def show(img):\n",
    "    # tensor를 numpy array로 변경\n",
    "    npimg = img.numpy()\n",
    "    \n",
    "    #C*H*W를 H*W*C로 변경\n",
    "    npimg_tr = npimg.transpose((1,2,0))\n",
    "    \n",
    "    plt.imshow(npimg_tr, interpolation='nearest')\n",
    "    \n",
    "# img grid를 생성하고 출력\n",
    "# 총 40개의 이미지 행당 8개 출력\n",
    "x_grid = utils.make_grid(x_train[:40], nrow=8, padding=2)\n",
    "\n",
    "show(x_grid)"
   ]
  },
  {
   "cell_type": "code",
   "execution_count": 9,
   "id": "b2ea922d",
   "metadata": {},
   "outputs": [
    {
     "name": "stdout",
     "output_type": "stream",
     "text": [
      "LeNet_5(\n",
      "  (conv1): Conv2d(1, 6, kernel_size=(5, 5), stride=(1, 1))\n",
      "  (conv2): Conv2d(6, 16, kernel_size=(5, 5), stride=(1, 1))\n",
      "  (conv3): Conv2d(16, 120, kernel_size=(5, 5), stride=(1, 1))\n",
      "  (fc1): Linear(in_features=120, out_features=84, bias=True)\n",
      "  (fc2): Linear(in_features=84, out_features=10, bias=True)\n",
      ")\n"
     ]
    }
   ],
   "source": [
    "from torch import nn\n",
    "import torch.nn.functional as F\n",
    "\n",
    "# LeNet5는 activation function으로 tanh와 pooling에 average pooling 사용\n",
    "class LeNet_5(nn.Module):\n",
    "    def __init__(self):\n",
    "        super(LeNet_5, self).__init__()\n",
    "        self.conv1 = nn.Conv2d(1, 6, kernel_size=5, stride=1)\n",
    "        self.conv2 = nn.Conv2d(6, 16, kernel_size=5, stride=1)\n",
    "        self.conv3 = nn.Conv2d(16, 120, kernel_size=5, stride=1)\n",
    "        self.fc1 = nn.Linear(120, 84)\n",
    "        self.fc2 = nn.Linear(84, 10)\n",
    "        \n",
    "    def forward(self, x):\n",
    "        x = F.tanh(self.conv1(x))\n",
    "        x = F.avg_pool2d(x, 2, 2)\n",
    "        x = F.tanh(self.conv2(x))\n",
    "        x = F.avg_pool2d(x, 2, 2)\n",
    "        x = F.tanh(self.conv3(x))\n",
    "        x = x.view(-1, 120)\n",
    "        x = F.tanh(self.fc1(x))\n",
    "        x = self.fc2(x)\n",
    "        return F.softmax(x, dim=1)\n",
    "\n",
    "model = LeNet_5()\n",
    "\n",
    "print(model)"
   ]
  },
  {
   "cell_type": "code",
   "execution_count": 10,
   "id": "c92a27f4",
   "metadata": {},
   "outputs": [
    {
     "name": "stdout",
     "output_type": "stream",
     "text": [
      "There are 1 GPU(s) available.\n",
      "We will use the GPU: NVIDIA GeForce RTX 3060\n"
     ]
    }
   ],
   "source": [
    "import torch\n",
    "\n",
    "if torch.cuda.is_available():    \n",
    "    device = torch.device(\"cuda\")\n",
    "    print('There are %d GPU(s) available.' % torch.cuda.device_count())\n",
    "    print('We will use the GPU:', torch.cuda.get_device_name(0))\n",
    "\n",
    "else:\n",
    "    print('No GPU available, using the CPU instead.')\n",
    "    device = torch.device(\"cpu\")"
   ]
  },
  {
   "cell_type": "code",
   "execution_count": 11,
   "id": "e562d0d1",
   "metadata": {},
   "outputs": [
    {
     "data": {
      "text/plain": [
       "LeNet_5(\n",
       "  (conv1): Conv2d(1, 6, kernel_size=(5, 5), stride=(1, 1))\n",
       "  (conv2): Conv2d(6, 16, kernel_size=(5, 5), stride=(1, 1))\n",
       "  (conv3): Conv2d(16, 120, kernel_size=(5, 5), stride=(1, 1))\n",
       "  (fc1): Linear(in_features=120, out_features=84, bias=True)\n",
       "  (fc2): Linear(in_features=84, out_features=10, bias=True)\n",
       ")"
      ]
     },
     "execution_count": 11,
     "metadata": {},
     "output_type": "execute_result"
    }
   ],
   "source": [
    "model.to(device)"
   ]
  },
  {
   "cell_type": "code",
   "execution_count": 12,
   "id": "10fee46e",
   "metadata": {},
   "outputs": [
    {
     "name": "stdout",
     "output_type": "stream",
     "text": [
      "cuda:0\n"
     ]
    }
   ],
   "source": [
    "print(next(model.parameters()).device)"
   ]
  },
  {
   "cell_type": "code",
   "execution_count": 14,
   "id": "78f4773c",
   "metadata": {},
   "outputs": [
    {
     "name": "stderr",
     "output_type": "stream",
     "text": [
      "C:\\ProgramData\\Anaconda3\\lib\\site-packages\\torch\\nn\\functional.py:1933: UserWarning: nn.functional.tanh is deprecated. Use torch.tanh instead.\n",
      "  warnings.warn(\"nn.functional.tanh is deprecated. Use torch.tanh instead.\")\n"
     ]
    },
    {
     "name": "stdout",
     "output_type": "stream",
     "text": [
      "----------------------------------------------------------------\n",
      "        Layer (type)               Output Shape         Param #\n",
      "================================================================\n",
      "            Conv2d-1            [-1, 6, 28, 28]             156\n",
      "            Conv2d-2           [-1, 16, 10, 10]           2,416\n",
      "            Conv2d-3            [-1, 120, 1, 1]          48,120\n",
      "            Linear-4                   [-1, 84]          10,164\n",
      "            Linear-5                   [-1, 10]             850\n",
      "================================================================\n",
      "Total params: 61,706\n",
      "Trainable params: 61,706\n",
      "Non-trainable params: 0\n",
      "----------------------------------------------------------------\n",
      "Input size (MB): 0.00\n",
      "Forward/backward pass size (MB): 0.05\n",
      "Params size (MB): 0.24\n",
      "Estimated Total Size (MB): 0.29\n",
      "----------------------------------------------------------------\n"
     ]
    }
   ],
   "source": [
    "from torchsummary import summary\n",
    "summary(model, input_size=(1,32,32))"
   ]
  },
  {
   "cell_type": "code",
   "execution_count": 15,
   "id": "435a08cd",
   "metadata": {},
   "outputs": [],
   "source": [
    "# loss funcion 정의 분류이므로 cross entropy 사용\n",
    "loss_func = nn.CrossEntropyLoss(reduction='sum')"
   ]
  },
  {
   "cell_type": "code",
   "execution_count": 16,
   "id": "ac41a0ee",
   "metadata": {},
   "outputs": [
    {
     "name": "stdout",
     "output_type": "stream",
     "text": [
      "CrossEntropyLoss()\n"
     ]
    }
   ],
   "source": [
    "print(loss_func)"
   ]
  },
  {
   "cell_type": "code",
   "execution_count": 17,
   "id": "25844fdd",
   "metadata": {},
   "outputs": [],
   "source": [
    "# optimizer 정의\n",
    "from torch import optim\n",
    "opt = optim.Adam(model.parameters(), lr=0.001)\n",
    "\n",
    "# 현재 lr 계산 함수\n",
    "def get_lr(opt):\n",
    "    for param_group in opt.param_groups:\n",
    "        return param_group['lr']\n",
    "    \n",
    "# lr 스케쥴러 정의\n",
    "from torch.optim.lr_scheduler import CosineAnnealingLR\n",
    "\n",
    "lr_scheduler = CosineAnnealingLR(opt, T_max=2, eta_min=1e-05)"
   ]
  },
  {
   "cell_type": "code",
   "execution_count": 18,
   "id": "1289f899",
   "metadata": {},
   "outputs": [],
   "source": [
    "# batch당 perfomace metric을 계산하는 함수\n",
    "def metrics_batch(output, target):\n",
    "    pred = output.argmax(dim=1, keepdim=True)\n",
    "    corrects = pred.eq(target.view_as(pred)).sum().item()\n",
    "    return corrects"
   ]
  },
  {
   "cell_type": "code",
   "execution_count": 19,
   "id": "4c46a224",
   "metadata": {},
   "outputs": [],
   "source": [
    "# batch당 loss 계산 함수\n",
    "def loss_batch(loss_func, output, target, opt=None):\n",
    "    loss = loss_func(output, target)\n",
    "    metric_b = metrics_batch(output, target)\n",
    "    if opt is not None:\n",
    "        opt.zero_grad()\n",
    "        loss.backward()\n",
    "        opt.step()\n",
    "    return loss.item(), metric_b"
   ]
  },
  {
   "cell_type": "code",
   "execution_count": 20,
   "id": "21c65640",
   "metadata": {},
   "outputs": [],
   "source": [
    "# epoch당 loss와 performace metric 계산 함수\n",
    "def loss_epoch(model, loss_func, dataset_dl, sanity_check=False, opt=None):\n",
    "    running_loss = 0.0\n",
    "    running_metric = 0.0\n",
    "    len_data = len(dataset_dl.dataset)\n",
    "    \n",
    "    for xb, yb in dataset_dl:\n",
    "        xb = xb.type(torch.float).to(device)\n",
    "        yb = yb.to(device)\n",
    "        output = model(xb)\n",
    "        loss_b, metric_b = loss_batch(loss_func, output, yb, opt)\n",
    "        running_loss += loss_b\n",
    "        \n",
    "        if metric_b is not None:\n",
    "            running_metric += metric_b\n",
    "        \n",
    "        if sanity_check is True:\n",
    "            break\n",
    "            \n",
    "    loss = running_loss / float(len_data)\n",
    "    metric = running_metric / float(len_data)\n",
    "    return loss, metric"
   ]
  },
  {
   "cell_type": "code",
   "execution_count": 21,
   "id": "269d2cf5",
   "metadata": {},
   "outputs": [],
   "source": [
    "import copy\n",
    "\n",
    "# train_val 함수\n",
    "def train_val(model, params):\n",
    "    num_epochs = params['num_epochs']\n",
    "    loss_func = params['loss_func']\n",
    "    opt = params['optimizer']\n",
    "    train_dl = params['train_dl']\n",
    "    val_dl = params['val_dl']\n",
    "    sanity_check = params['sanity_check']\n",
    "    lr_scheduler = params['lr_scheduler']\n",
    "    path2weights = params['path2weights']\n",
    "    \n",
    "    loss_history = {\n",
    "        'train': [],\n",
    "        'val': []\n",
    "    }\n",
    "    \n",
    "    metric_history = {\n",
    "        'train': [],\n",
    "        'val': []\n",
    "    }\n",
    "    \n",
    "    # best model 파라미터 저장\n",
    "    best_model_wts = copy.deepcopy(model.state_dict())\n",
    "    best_loss = float('inf')\n",
    "    \n",
    "    for epoch in range(num_epochs):\n",
    "        current_lr = get_lr(opt)\n",
    "        print('Epoch {}/{}, current lr={}'.format(epoch, num_epochs-1, current_lr))\n",
    "        model.train()\n",
    "        train_loss, train_metric = loss_epoch(model, loss_func, train_dl, sanity_check,opt)\n",
    "        \n",
    "        loss_history['train'].append(train_loss)\n",
    "        metric_history['train'].append(train_metric)\n",
    "        \n",
    "        model.eval()\n",
    "        with torch.no_grad():\n",
    "            val_loss, val_metric = loss_epoch(model, loss_func, val_dl, sanity_check)\n",
    "            \n",
    "        loss_history['val'].append(val_loss)\n",
    "        metric_history['val'].append(val_metric)           \n",
    "        \n",
    "        if val_loss < best_loss:\n",
    "            best_loss = val_loss\n",
    "            best_model_wts = copy.deepcopy(model.state_dict())\n",
    "            torch.save(model.state_dict(), path2weights)\n",
    "            print(\"Copied best model weights\")\n",
    "            \n",
    "        lr_scheduler.step()\n",
    "        \n",
    "        print(\"train loss : %.6f, dev loss: %.6f, accuracy: %.2f\" % (train_loss, val_loss, 100*val_metric))\n",
    "        \n",
    "        print(\"-\"*10)\n",
    "    \n",
    "    #best model 반환\n",
    "    model.load_state_dict(best_model_wts)\n",
    "    return model, loss_history, metric_history    "
   ]
  },
  {
   "cell_type": "code",
   "execution_count": 22,
   "id": "8b67a315",
   "metadata": {},
   "outputs": [],
   "source": [
    "params_train = {\n",
    "    'num_epochs': 5,\n",
    "    'loss_func': loss_func,\n",
    "    'optimizer': opt,\n",
    "    'train_dl': train_dl,\n",
    "    'val_dl': val_dl,\n",
    "    'sanity_check': False,\n",
    "    'lr_scheduler': lr_scheduler,\n",
    "    'path2weights': './model/lenet5.pt'\n",
    "}"
   ]
  },
  {
   "cell_type": "code",
   "execution_count": 23,
   "id": "c62a18be",
   "metadata": {},
   "outputs": [
    {
     "name": "stdout",
     "output_type": "stream",
     "text": [
      "Epoch 0/4, current lr=0.001\n",
      "Copied best model weights\n",
      "train loss : 1.562206, dev loss: 1.505501, accuracy: 96.00\n",
      "----------\n",
      "Epoch 1/4, current lr=0.000505\n",
      "Copied best model weights\n",
      "train loss : 1.494777, dev loss: 1.489062, accuracy: 97.50\n",
      "----------\n",
      "Epoch 2/4, current lr=1e-05\n",
      "Copied best model weights\n",
      "train loss : 1.484831, dev loss: 1.486400, accuracy: 97.64\n",
      "----------\n",
      "Epoch 3/4, current lr=0.0005049999999999999\n",
      "Copied best model weights\n",
      "train loss : 1.486176, dev loss: 1.484712, accuracy: 97.82\n",
      "----------\n",
      "Epoch 4/4, current lr=0.001\n",
      "train loss : 1.487645, dev loss: 1.489403, accuracy: 97.38\n",
      "----------\n"
     ]
    }
   ],
   "source": [
    "model, loss_hist, metric_hist = train_val(model, params_train) "
   ]
  },
  {
   "cell_type": "code",
   "execution_count": 24,
   "id": "836a014d",
   "metadata": {},
   "outputs": [
    {
     "data": {
      "image/png": "[encoded data removed]",
      "text/plain": [
       "<Figure size 432x288 with 1 Axes>"
      ]
     },
     "metadata": {
      "needs_background": "light"
     },
     "output_type": "display_data"
    }
   ],
   "source": [
    "num_epochs = params_train['num_epochs']\n",
    "\n",
    "# loss plot\n",
    "plt.title('Train-Val loss')\n",
    "plt.plot(range(1, num_epochs+1), loss_hist['train'], label='train')\n",
    "plt.plot(range(1, num_epochs+1), loss_hist['val'], label='val')\n",
    "plt.ylabel('Loss')\n",
    "plt.xlabel('Training Epochs')\n",
    "plt.legend()\n",
    "plt.show()"
   ]
  },
  {
   "cell_type": "code",
   "execution_count": 25,
   "id": "6f024133",
   "metadata": {},
   "outputs": [
    {
     "data": {
      "image/png": "[encoded data removed]",
      "text/plain": [
       "<Figure size 432x288 with 1 Axes>"
      ]
     },
     "metadata": {
      "needs_background": "light"
     },
     "output_type": "display_data"
    }
   ],
   "source": [
    "# accuracy plot\n",
    "plt.title(\"Train-Val Accuracy\")\n",
    "plt.plot(range(1,num_epochs+1),metric_hist[\"train\"],label=\"train\")\n",
    "plt.plot(range(1,num_epochs+1),metric_hist[\"val\"],label=\"val\")\n",
    "plt.ylabel(\"Accuracy\")\n",
    "plt.xlabel(\"Training Epochs\")\n",
    "plt.legend()\n",
    "plt.show()"
   ]
  },
  {
   "cell_type": "code",
   "execution_count": null,
   "id": "5216b261",
   "metadata": {},
   "outputs": [],
   "source": []
  }
 ],
 "metadata": {
  "kernelspec": {
   "display_name": "Python 3 (ipykernel)",
   "language": "python",
   "name": "python3"
  },
  "language_info": {
   "codemirror_mode": {
    "name": "ipython",
    "version": 3
   },
   "file_extension": ".py",
   "mimetype": "text/x-python",
   "name": "python",
   "nbconvert_exporter": "python",
   "pygments_lexer": "ipython3",
   "version": "3.9.7"
  }
 },
 "nbformat": 4,
 "nbformat_minor": 5
}
