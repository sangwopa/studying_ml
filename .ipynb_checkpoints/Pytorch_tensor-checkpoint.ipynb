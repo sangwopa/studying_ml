{
 "cells": [
  {
   "cell_type": "code",
   "execution_count": 1,
   "id": "3daecb05",
   "metadata": {},
   "outputs": [],
   "source": [
    "import torch\n",
    "import numpy as np"
   ]
  },
  {
   "cell_type": "code",
   "execution_count": 2,
   "id": "967d3d40",
   "metadata": {},
   "outputs": [
    {
     "name": "stdout",
     "output_type": "stream",
     "text": [
      "[[1, 2], [3, 4]]\n",
      "tensor([[1, 2],\n",
      "        [3, 4]])\n"
     ]
    }
   ],
   "source": [
    "# 데이터 자료형 자동으로 유추하여 tensor 화\n",
    "data = [[1,2], [3,4]]\n",
    "x_data = torch.tensor(data)\n",
    "print(data)\n",
    "print(x_data)"
   ]
  },
  {
   "cell_type": "code",
   "execution_count": 4,
   "id": "3582dfa1",
   "metadata": {},
   "outputs": [
    {
     "name": "stdout",
     "output_type": "stream",
     "text": [
      "[[1 2]\n",
      " [3 4]]\n",
      "tensor([[1, 2],\n",
      "        [3, 4]], dtype=torch.int32)\n",
      "tensor([[1, 2],\n",
      "        [3, 4]], dtype=torch.int32)\n"
     ]
    }
   ],
   "source": [
    "# Numpy 배열로도 생성 가능\n",
    "np_array = np.array(data)\n",
    "x_np = torch.tensor(np_array)\n",
    "x_np2 = torch.from_numpy(np_array)\n",
    "\n",
    "print(np_array)\n",
    "print(x_np)\n",
    "print(x_np2)"
   ]
  },
  {
   "cell_type": "code",
   "execution_count": 6,
   "id": "7d094f43",
   "metadata": {},
   "outputs": [
    {
     "data": {
      "text/plain": [
       "tensor([[1, 1],\n",
       "        [1, 1]])"
      ]
     },
     "execution_count": 6,
     "metadata": {},
     "output_type": "execute_result"
    }
   ],
   "source": [
    "# x_data의 shape 유지\n",
    "x_ones = torch.ones_like(x_data)\n",
    "x_ones"
   ]
  },
  {
   "cell_type": "code",
   "execution_count": 8,
   "id": "1892e6e3",
   "metadata": {},
   "outputs": [
    {
     "data": {
      "text/plain": [
       "tensor([[0.0205, 0.9471],\n",
       "        [0.8789, 0.0927]])"
      ]
     },
     "execution_count": 8,
     "metadata": {},
     "output_type": "execute_result"
    }
   ],
   "source": [
    "x_rand = torch.rand_like(x_data, dtype=torch.float)\n",
    "x_rand"
   ]
  },
  {
   "cell_type": "code",
   "execution_count": 9,
   "id": "5cab3ad8",
   "metadata": {},
   "outputs": [
    {
     "name": "stdout",
     "output_type": "stream",
     "text": [
      "tensor([[0.1536, 0.6369, 0.0462, 0.6662],\n",
      "        [0.7576, 0.8273, 0.3045, 0.1875],\n",
      "        [0.7245, 0.8110, 0.4256, 0.4342]])\n",
      "tensor([[1., 1., 1., 1.],\n",
      "        [1., 1., 1., 1.],\n",
      "        [1., 1., 1., 1.]])\n",
      "tensor([[0., 0., 0., 0.],\n",
      "        [0., 0., 0., 0.],\n",
      "        [0., 0., 0., 0.]])\n"
     ]
    }
   ],
   "source": [
    "# shape크기 지정하여 tensor 초기화\n",
    "shape = (3,4,)\n",
    "rand_tensor = torch.rand(shape)\n",
    "ones_tensor = torch.ones(shape)\n",
    "zeros_tensor = torch.zeros(shape)\n",
    "\n",
    "print(rand_tensor)\n",
    "print(ones_tensor)\n",
    "print(zeros_tensor)"
   ]
  },
  {
   "cell_type": "code",
   "execution_count": 11,
   "id": "9a9101e9",
   "metadata": {},
   "outputs": [
    {
     "name": "stdout",
     "output_type": "stream",
     "text": [
      "tensor([[0.6882, 0.5539, 0.1987, 0.5154],\n",
      "        [0.3744, 0.9100, 0.6473, 0.0604],\n",
      "        [0.0809, 0.4429, 0.1208, 0.2569]])\n",
      "Shape of tensor: torch.Size([3, 4])\n",
      "Datatype of tensor: torch.float32\n",
      "Device tensor is stored on: cpu\n"
     ]
    }
   ],
   "source": [
    "tensor = torch.rand(3,4)\n",
    "\n",
    "print(tensor)\n",
    "print(f\"Shape of tensor: {tensor.shape}\")\n",
    "print(f\"Datatype of tensor: {tensor.dtype}\")\n",
    "print(f\"Device tensor is stored on: {tensor.device}\")"
   ]
  },
  {
   "cell_type": "code",
   "execution_count": 12,
   "id": "895b2d28",
   "metadata": {},
   "outputs": [
    {
     "name": "stdout",
     "output_type": "stream",
     "text": [
      "tensor([[0.6882, 0.5539, 0.1987, 0.5154],\n",
      "        [0.3744, 0.9100, 0.6473, 0.0604],\n",
      "        [0.0809, 0.4429, 0.1208, 0.2569]], device='cuda:0')\n",
      "cuda:0\n"
     ]
    }
   ],
   "source": [
    "# GPU가 존재하면 텐서를 이동합니다\n",
    "if torch.cuda.is_available():\n",
    "    tensor = tensor.to(\"cuda\")\n",
    "\n",
    "print(tensor)\n",
    "print(tensor.device)"
   ]
  },
  {
   "cell_type": "code",
   "execution_count": 13,
   "id": "9fe410ce",
   "metadata": {},
   "outputs": [
    {
     "name": "stdout",
     "output_type": "stream",
     "text": [
      "tensor([[0.3316, 0.0591, 0.7979, 0.9165],\n",
      "        [0.9043, 0.5291, 0.9760, 0.5192],\n",
      "        [0.7558, 0.3377, 0.1419, 0.5818],\n",
      "        [0.3621, 0.4484, 0.0629, 0.3447]])\n",
      "First row: tensor([0.3316, 0.0591, 0.7979, 0.9165])\n",
      "First column: tensor([0.3316, 0.9043, 0.7558, 0.3621])\n",
      "Last column: tensor([0.9165, 0.5192, 0.5818, 0.3447])\n",
      "tensor([[0.3316, 0.0000, 0.7979, 0.9165],\n",
      "        [0.9043, 0.0000, 0.9760, 0.5192],\n",
      "        [0.7558, 0.0000, 0.1419, 0.5818],\n",
      "        [0.3621, 0.0000, 0.0629, 0.3447]])\n"
     ]
    }
   ],
   "source": [
    "tensor = torch.rand(4, 4)\n",
    "\n",
    "print(tensor)\n",
    "print(f\"First row: {tensor[0]}\")\n",
    "print(f\"First column: {tensor[:, 0]}\")\n",
    "print(f\"Last column: {tensor[..., -1]}\")\n",
    "tensor[:,1] = 0\n",
    "print(tensor)"
   ]
  },
  {
   "cell_type": "code",
   "execution_count": 16,
   "id": "127516a8",
   "metadata": {},
   "outputs": [
    {
     "name": "stdout",
     "output_type": "stream",
     "text": [
      "tensor([[0.3316, 0.0000, 0.7979, 0.9165, 0.3316, 0.0000, 0.7979, 0.9165, 0.3316,\n",
      "         0.0000, 0.7979, 0.9165],\n",
      "        [0.9043, 0.0000, 0.9760, 0.5192, 0.9043, 0.0000, 0.9760, 0.5192, 0.9043,\n",
      "         0.0000, 0.9760, 0.5192],\n",
      "        [0.7558, 0.0000, 0.1419, 0.5818, 0.7558, 0.0000, 0.1419, 0.5818, 0.7558,\n",
      "         0.0000, 0.1419, 0.5818],\n",
      "        [0.3621, 0.0000, 0.0629, 0.3447, 0.3621, 0.0000, 0.0629, 0.3447, 0.3621,\n",
      "         0.0000, 0.0629, 0.3447]])\n"
     ]
    }
   ],
   "source": [
    "t1 = torch.cat([tensor, tensor, tensor], dim=1)\n",
    "print(t1)"
   ]
  },
  {
   "cell_type": "code",
   "execution_count": 18,
   "id": "61afdd0b",
   "metadata": {},
   "outputs": [
    {
     "name": "stdout",
     "output_type": "stream",
     "text": [
      "tensor([[1.5866, 1.5545, 0.8970, 0.4861],\n",
      "        [1.5545, 2.0399, 1.1241, 0.5678],\n",
      "        [0.8970, 1.1241, 0.9299, 0.4831],\n",
      "        [0.4861, 0.5678, 0.4831, 0.2539]])\n",
      "tensor([[1.5866, 1.5545, 0.8970, 0.4861],\n",
      "        [1.5545, 2.0399, 1.1241, 0.5678],\n",
      "        [0.8970, 1.1241, 0.9299, 0.4831],\n",
      "        [0.4861, 0.5678, 0.4831, 0.2539]])\n",
      "tensor([[1.5866, 1.5545, 0.8970, 0.4861],\n",
      "        [1.5545, 2.0399, 1.1241, 0.5678],\n",
      "        [0.8970, 1.1241, 0.9299, 0.4831],\n",
      "        [0.4861, 0.5678, 0.4831, 0.2539]])\n"
     ]
    }
   ],
   "source": [
    "# 두 텐서 간의 행렬 곱(matrix multiplication)을 계산합니다. y1, y2, y3은 모두 같은 값을 갖습니다.\n",
    "y1 = tensor @ tensor.T\n",
    "y2 = tensor.matmul(tensor.T)\n",
    "\n",
    "y3 = torch.rand_like(y1)\n",
    "torch.matmul(tensor, tensor.T, out=y3)\n",
    "\n",
    "print(y1)\n",
    "print(y2)\n",
    "print(y3)"
   ]
  },
  {
   "cell_type": "code",
   "execution_count": 19,
   "id": "945739e0",
   "metadata": {},
   "outputs": [
    {
     "name": "stdout",
     "output_type": "stream",
     "text": [
      "tensor([[0.1099, 0.0000, 0.6367, 0.8400],\n",
      "        [0.8178, 0.0000, 0.9525, 0.2696],\n",
      "        [0.5712, 0.0000, 0.0201, 0.3385],\n",
      "        [0.1311, 0.0000, 0.0040, 0.1188]])\n",
      "tensor([[0.1099, 0.0000, 0.6367, 0.8400],\n",
      "        [0.8178, 0.0000, 0.9525, 0.2696],\n",
      "        [0.5712, 0.0000, 0.0201, 0.3385],\n",
      "        [0.1311, 0.0000, 0.0040, 0.1188]])\n",
      "tensor([[0.1099, 0.0000, 0.6367, 0.8400],\n",
      "        [0.8178, 0.0000, 0.9525, 0.2696],\n",
      "        [0.5712, 0.0000, 0.0201, 0.3385],\n",
      "        [0.1311, 0.0000, 0.0040, 0.1188]])\n"
     ]
    }
   ],
   "source": [
    "# 요소별 곱(element-wise product)을 계산합니다. z1, z2, z3는 모두 같은 값을 갖습니다.\n",
    "z1 = tensor * tensor\n",
    "z2 = tensor.mul(tensor)\n",
    "\n",
    "z3 = torch.rand_like(tensor)\n",
    "torch.mul(tensor, tensor, out=z3)\n",
    "\n",
    "print(z1)\n",
    "print(z2)\n",
    "print(z3)"
   ]
  },
  {
   "cell_type": "code",
   "execution_count": 20,
   "id": "4e7c2c65",
   "metadata": {},
   "outputs": [
    {
     "data": {
      "text/plain": [
       "tensor(6.6947)"
      ]
     },
     "execution_count": 20,
     "metadata": {},
     "output_type": "execute_result"
    }
   ],
   "source": [
    "agg = tensor.sum()\n",
    "agg"
   ]
  },
  {
   "cell_type": "code",
   "execution_count": 22,
   "id": "15bf924b",
   "metadata": {},
   "outputs": [
    {
     "name": "stdout",
     "output_type": "stream",
     "text": [
      "6.694676399230957\n",
      "<class 'float'>\n"
     ]
    }
   ],
   "source": [
    "# 결과값 item()으로 python 숫자형 변환\n",
    "agg_item = agg.item()\n",
    "print(agg_item)\n",
    "print(type(agg_item))"
   ]
  },
  {
   "cell_type": "code",
   "execution_count": null,
   "id": "7263fd1a",
   "metadata": {},
   "outputs": [],
   "source": []
  }
 ],
 "metadata": {
  "kernelspec": {
   "display_name": "Python 3 (ipykernel)",
   "language": "python",
   "name": "python3"
  },
  "language_info": {
   "codemirror_mode": {
    "name": "ipython",
    "version": 3
   },
   "file_extension": ".py",
   "mimetype": "text/x-python",
   "name": "python",
   "nbconvert_exporter": "python",
   "pygments_lexer": "ipython3",
   "version": "3.9.7"
  }
 },
 "nbformat": 4,
 "nbformat_minor": 5
}
