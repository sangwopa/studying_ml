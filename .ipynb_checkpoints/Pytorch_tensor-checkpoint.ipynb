{
 "cells": [
  {
   "cell_type": "code",
   "execution_count": 1,
   "id": "3daecb05",
   "metadata": {},
   "outputs": [],
   "source": [
    "import torch\n",
    "import numpy as np"
   ]
  },
  {
   "cell_type": "code",
   "execution_count": 2,
   "id": "967d3d40",
   "metadata": {},
   "outputs": [
    {
     "name": "stdout",
     "output_type": "stream",
     "text": [
      "[[1, 2], [3, 4]]\n",
      "tensor([[1, 2],\n",
      "        [3, 4]])\n"
     ]
    }
   ],
   "source": [
    "# 데이터 자료형 자동으로 유추하여 tensor 화\n",
    "data = [[1,2], [3,4]]\n",
    "x_data = torch.tensor(data)\n",
    "print(data)\n",
    "print(x_data)"
   ]
  },
  {
   "cell_type": "code",
   "execution_count": 3,
   "id": "3582dfa1",
   "metadata": {},
   "outputs": [
    {
     "name": "stdout",
     "output_type": "stream",
     "text": [
      "[[1 2]\n",
      " [3 4]]\n",
      "tensor([[1, 2],\n",
      "        [3, 4]], dtype=torch.int32)\n",
      "tensor([[1, 2],\n",
      "        [3, 4]], dtype=torch.int32)\n"
     ]
    }
   ],
   "source": [
    "# Numpy 배열로도 생성 가능\n",
    "np_array = np.array(data)\n",
    "x_np = torch.tensor(np_array)\n",
    "x_np2 = torch.from_numpy(np_array)\n",
    "\n",
    "print(np_array)\n",
    "print(x_np)\n",
    "print(x_np2)"
   ]
  },
  {
   "cell_type": "code",
   "execution_count": 4,
   "id": "7d094f43",
   "metadata": {},
   "outputs": [
    {
     "data": {
      "text/plain": [
       "tensor([[1, 1],\n",
       "        [1, 1]])"
      ]
     },
     "execution_count": 4,
     "metadata": {},
     "output_type": "execute_result"
    }
   ],
   "source": [
    "# x_data의 shape 유지\n",
    "x_ones = torch.ones_like(x_data)\n",
    "x_ones"
   ]
  },
  {
   "cell_type": "code",
   "execution_count": 5,
   "id": "1892e6e3",
   "metadata": {},
   "outputs": [
    {
     "data": {
      "text/plain": [
       "tensor([[0.3517, 0.4724],\n",
       "        [0.3767, 0.4896]])"
      ]
     },
     "execution_count": 5,
     "metadata": {},
     "output_type": "execute_result"
    }
   ],
   "source": [
    "x_rand = torch.rand_like(x_data, dtype=torch.float)\n",
    "x_rand"
   ]
  },
  {
   "cell_type": "code",
   "execution_count": 6,
   "id": "5cab3ad8",
   "metadata": {},
   "outputs": [
    {
     "name": "stdout",
     "output_type": "stream",
     "text": [
      "tensor([[0.9682, 0.8266, 0.8927, 0.8582],\n",
      "        [0.7175, 0.8004, 0.3741, 0.4612],\n",
      "        [0.0585, 0.4017, 0.2418, 0.8543]])\n",
      "tensor([[1., 1., 1., 1.],\n",
      "        [1., 1., 1., 1.],\n",
      "        [1., 1., 1., 1.]])\n",
      "tensor([[0., 0., 0., 0.],\n",
      "        [0., 0., 0., 0.],\n",
      "        [0., 0., 0., 0.]])\n"
     ]
    }
   ],
   "source": [
    "# shape크기 지정하여 tensor 초기화\n",
    "shape = (3,4,)\n",
    "rand_tensor = torch.rand(shape)\n",
    "ones_tensor = torch.ones(shape)\n",
    "zeros_tensor = torch.zeros(shape)\n",
    "\n",
    "print(rand_tensor)\n",
    "print(ones_tensor)\n",
    "print(zeros_tensor)"
   ]
  },
  {
   "cell_type": "code",
   "execution_count": 7,
   "id": "9a9101e9",
   "metadata": {},
   "outputs": [
    {
     "name": "stdout",
     "output_type": "stream",
     "text": [
      "tensor([[0.2230, 0.4685, 0.4190, 0.3773],\n",
      "        [0.8074, 0.6006, 0.0603, 0.4984],\n",
      "        [0.3050, 0.9588, 0.7141, 0.3781]])\n",
      "Shape of tensor: torch.Size([3, 4])\n",
      "Datatype of tensor: torch.float32\n",
      "Device tensor is stored on: cpu\n"
     ]
    }
   ],
   "source": [
    "tensor = torch.rand(3,4)\n",
    "\n",
    "print(tensor)\n",
    "print(f\"Shape of tensor: {tensor.shape}\")\n",
    "print(f\"Datatype of tensor: {tensor.dtype}\")\n",
    "print(f\"Device tensor is stored on: {tensor.device}\")"
   ]
  },
  {
   "cell_type": "code",
   "execution_count": 8,
   "id": "895b2d28",
   "metadata": {},
   "outputs": [
    {
     "name": "stdout",
     "output_type": "stream",
     "text": [
      "tensor([[0.2230, 0.4685, 0.4190, 0.3773],\n",
      "        [0.8074, 0.6006, 0.0603, 0.4984],\n",
      "        [0.3050, 0.9588, 0.7141, 0.3781]])\n",
      "cpu\n"
     ]
    }
   ],
   "source": [
    "# GPU가 존재하면 텐서를 이동합니다\n",
    "# GPU 사용하여 tensor 연산하도록 할 때\n",
    "if torch.cuda.is_available():\n",
    "    tensor = tensor.to(\"cuda\")\n",
    "\n",
    "print(tensor)\n",
    "print(tensor.device)"
   ]
  },
  {
   "cell_type": "code",
   "execution_count": 9,
   "id": "9fe410ce",
   "metadata": {},
   "outputs": [
    {
     "name": "stdout",
     "output_type": "stream",
     "text": [
      "tensor([[0.0923, 0.0801, 0.0241, 0.4331],\n",
      "        [0.5765, 0.8910, 0.4734, 0.4811],\n",
      "        [0.4309, 0.1912, 0.3171, 0.2527],\n",
      "        [0.9390, 0.5813, 0.0577, 0.3947]])\n",
      "First row: tensor([0.0923, 0.0801, 0.0241, 0.4331])\n",
      "First column: tensor([0.0923, 0.5765, 0.4309, 0.9390])\n",
      "Last column: tensor([0.4331, 0.4811, 0.2527, 0.3947])\n",
      "tensor([[0.0923, 0.0000, 0.0241, 0.4331],\n",
      "        [0.5765, 0.0000, 0.4734, 0.4811],\n",
      "        [0.4309, 0.0000, 0.3171, 0.2527],\n",
      "        [0.9390, 0.0000, 0.0577, 0.3947]])\n"
     ]
    }
   ],
   "source": [
    "tensor = torch.rand(4, 4)\n",
    "\n",
    "print(tensor)\n",
    "print(f\"First row: {tensor[0]}\")\n",
    "print(f\"First column: {tensor[:, 0]}\")\n",
    "print(f\"Last column: {tensor[..., -1]}\")\n",
    "tensor[:,1] = 0\n",
    "print(tensor)"
   ]
  },
  {
   "cell_type": "code",
   "execution_count": 10,
   "id": "127516a8",
   "metadata": {},
   "outputs": [
    {
     "name": "stdout",
     "output_type": "stream",
     "text": [
      "tensor([[0.0923, 0.0000, 0.0241, 0.4331, 0.0923, 0.0000, 0.0241, 0.4331, 0.0923,\n",
      "         0.0000, 0.0241, 0.4331],\n",
      "        [0.5765, 0.0000, 0.4734, 0.4811, 0.5765, 0.0000, 0.4734, 0.4811, 0.5765,\n",
      "         0.0000, 0.4734, 0.4811],\n",
      "        [0.4309, 0.0000, 0.3171, 0.2527, 0.4309, 0.0000, 0.3171, 0.2527, 0.4309,\n",
      "         0.0000, 0.3171, 0.2527],\n",
      "        [0.9390, 0.0000, 0.0577, 0.3947, 0.9390, 0.0000, 0.0577, 0.3947, 0.9390,\n",
      "         0.0000, 0.0577, 0.3947]])\n"
     ]
    }
   ],
   "source": [
    "t1 = torch.cat([tensor, tensor, tensor], dim=1)\n",
    "print(t1)"
   ]
  },
  {
   "cell_type": "code",
   "execution_count": 11,
   "id": "61afdd0b",
   "metadata": {},
   "outputs": [
    {
     "name": "stdout",
     "output_type": "stream",
     "text": [
      "tensor([[0.1966, 0.2730, 0.1568, 0.2590],\n",
      "        [0.2730, 0.7880, 0.5201, 0.7585],\n",
      "        [0.1568, 0.5201, 0.3501, 0.5227],\n",
      "        [0.2590, 0.7585, 0.5227, 1.0408]])\n",
      "tensor([[0.1966, 0.2730, 0.1568, 0.2590],\n",
      "        [0.2730, 0.7880, 0.5201, 0.7585],\n",
      "        [0.1568, 0.5201, 0.3501, 0.5227],\n",
      "        [0.2590, 0.7585, 0.5227, 1.0408]])\n",
      "tensor([[0.1966, 0.2730, 0.1568, 0.2590],\n",
      "        [0.2730, 0.7880, 0.5201, 0.7585],\n",
      "        [0.1568, 0.5201, 0.3501, 0.5227],\n",
      "        [0.2590, 0.7585, 0.5227, 1.0408]])\n"
     ]
    }
   ],
   "source": [
    "# 두 텐서 간의 행렬 곱(matrix multiplication)을 계산합니다. y1, y2, y3은 모두 같은 값을 갖습니다.\n",
    "y1 = tensor @ tensor.T\n",
    "y2 = tensor.matmul(tensor.T)\n",
    "\n",
    "y3 = torch.rand_like(y1)\n",
    "torch.matmul(tensor, tensor.T, out=y3)\n",
    "\n",
    "print(y1)\n",
    "print(y2)\n",
    "print(y3)"
   ]
  },
  {
   "cell_type": "code",
   "execution_count": 12,
   "id": "945739e0",
   "metadata": {},
   "outputs": [
    {
     "name": "stdout",
     "output_type": "stream",
     "text": [
      "tensor([[8.5239e-03, 0.0000e+00, 5.8080e-04, 1.8754e-01],\n",
      "        [3.3233e-01, 0.0000e+00, 2.2415e-01, 2.3150e-01],\n",
      "        [1.8571e-01, 0.0000e+00, 1.0054e-01, 6.3834e-02],\n",
      "        [8.8168e-01, 0.0000e+00, 3.3267e-03, 1.5580e-01]])\n",
      "tensor([[8.5239e-03, 0.0000e+00, 5.8080e-04, 1.8754e-01],\n",
      "        [3.3233e-01, 0.0000e+00, 2.2415e-01, 2.3150e-01],\n",
      "        [1.8571e-01, 0.0000e+00, 1.0054e-01, 6.3834e-02],\n",
      "        [8.8168e-01, 0.0000e+00, 3.3267e-03, 1.5580e-01]])\n",
      "tensor([[8.5239e-03, 0.0000e+00, 5.8080e-04, 1.8754e-01],\n",
      "        [3.3233e-01, 0.0000e+00, 2.2415e-01, 2.3150e-01],\n",
      "        [1.8571e-01, 0.0000e+00, 1.0054e-01, 6.3834e-02],\n",
      "        [8.8168e-01, 0.0000e+00, 3.3267e-03, 1.5580e-01]])\n"
     ]
    }
   ],
   "source": [
    "# 요소별 곱(element-wise product)을 계산합니다. z1, z2, z3는 모두 같은 값을 갖습니다.\n",
    "z1 = tensor * tensor\n",
    "z2 = tensor.mul(tensor)\n",
    "\n",
    "z3 = torch.rand_like(tensor)\n",
    "torch.mul(tensor, tensor, out=z3)\n",
    "\n",
    "print(z1)\n",
    "print(z2)\n",
    "print(z3)"
   ]
  },
  {
   "cell_type": "code",
   "execution_count": 13,
   "id": "4e7c2c65",
   "metadata": {},
   "outputs": [
    {
     "data": {
      "text/plain": [
       "tensor(4.4726)"
      ]
     },
     "execution_count": 13,
     "metadata": {},
     "output_type": "execute_result"
    }
   ],
   "source": [
    "agg = tensor.sum()\n",
    "agg"
   ]
  },
  {
   "cell_type": "code",
   "execution_count": 14,
   "id": "15bf924b",
   "metadata": {},
   "outputs": [
    {
     "name": "stdout",
     "output_type": "stream",
     "text": [
      "4.47259521484375\n",
      "<class 'float'>\n"
     ]
    }
   ],
   "source": [
    "# 결과값 item()으로 python 숫자형 변환\n",
    "agg_item = agg.item()\n",
    "print(agg_item)\n",
    "print(type(agg_item))"
   ]
  },
  {
   "cell_type": "code",
   "execution_count": 15,
   "id": "7263fd1a",
   "metadata": {},
   "outputs": [
    {
     "name": "stdout",
     "output_type": "stream",
     "text": [
      "tensor([[0.0923, 0.0000, 0.0241, 0.4331],\n",
      "        [0.5765, 0.0000, 0.4734, 0.4811],\n",
      "        [0.4309, 0.0000, 0.3171, 0.2527],\n",
      "        [0.9390, 0.0000, 0.0577, 0.3947]])\n",
      "tensor([[6.0923, 6.0000, 6.0241, 6.4331],\n",
      "        [6.5765, 6.0000, 6.4734, 6.4811],\n",
      "        [6.4309, 6.0000, 6.3171, 6.2527],\n",
      "        [6.9390, 6.0000, 6.0577, 6.3947]])\n"
     ]
    }
   ],
   "source": [
    "# 바꿔치기 연산\n",
    "# 연산 결과를 피 연산자에 저장하는 연산\n",
    "print(tensor)\n",
    "tensor.add_(6)\n",
    "print(tensor)"
   ]
  },
  {
   "cell_type": "code",
   "execution_count": 16,
   "id": "3ef2b1b7",
   "metadata": {},
   "outputs": [
    {
     "name": "stdout",
     "output_type": "stream",
     "text": [
      "tensor([[0.9552, 0.0116, 0.6281, 0.2429, 0.2199],\n",
      "        [0.2016, 0.9785, 0.8510, 0.6549, 0.1669],\n",
      "        [0.4321, 0.7965, 0.3843, 0.2469, 0.4976],\n",
      "        [0.9958, 0.5590, 0.7011, 0.9079, 0.1332],\n",
      "        [0.3005, 0.9145, 0.3046, 0.5829, 0.7435]])\n",
      "[[0.9551518  0.01155949 0.62809694 0.24288982 0.2199359 ]\n",
      " [0.20162523 0.9784687  0.8510278  0.6549061  0.16688693]\n",
      " [0.4321214  0.7965331  0.38428617 0.24693131 0.49764335]\n",
      " [0.9958265  0.55898714 0.7010888  0.90785927 0.13315213]\n",
      " [0.3004827  0.9145429  0.30461693 0.58294976 0.7434611 ]]\n"
     ]
    }
   ],
   "source": [
    "# Numpy 변환\n",
    "# CPU 상의 tensor와 Numpy는 메모리를 공유\n",
    "t = torch.rand(5,5)\n",
    "print(t)\n",
    "n = t.numpy()\n",
    "print(n)"
   ]
  },
  {
   "cell_type": "code",
   "execution_count": 17,
   "id": "10862b25",
   "metadata": {},
   "outputs": [
    {
     "name": "stdout",
     "output_type": "stream",
     "text": [
      "tensor([[5.9552, 5.0116, 5.6281, 5.2429, 5.2199],\n",
      "        [5.2016, 5.9785, 5.8510, 5.6549, 5.1669],\n",
      "        [5.4321, 5.7965, 5.3843, 5.2469, 5.4976],\n",
      "        [5.9958, 5.5590, 5.7011, 5.9079, 5.1332],\n",
      "        [5.3005, 5.9145, 5.3046, 5.5829, 5.7435]])\n",
      "[[5.9551516 5.0115595 5.628097  5.24289   5.219936 ]\n",
      " [5.2016253 5.978469  5.851028  5.6549063 5.166887 ]\n",
      " [5.4321213 5.796533  5.384286  5.246931  5.4976435]\n",
      " [5.9958267 5.558987  5.701089  5.9078593 5.133152 ]\n",
      " [5.3004827 5.914543  5.304617  5.5829496 5.743461 ]]\n"
     ]
    }
   ],
   "source": [
    "# 같은 메모리를 참조하기 때문에 tensor 변환시 numpy 변수도 같이 변함\n",
    "t.add_(5)\n",
    "print(t)\n",
    "print(n)"
   ]
  },
  {
   "cell_type": "code",
   "execution_count": null,
   "id": "f9792114",
   "metadata": {},
   "outputs": [],
   "source": []
  }
 ],
 "metadata": {
  "kernelspec": {
   "display_name": "Python 3 (ipykernel)",
   "language": "python",
   "name": "python3"
  },
  "language_info": {
   "codemirror_mode": {
    "name": "ipython",
    "version": 3
   },
   "file_extension": ".py",
   "mimetype": "text/x-python",
   "name": "python",
   "nbconvert_exporter": "python",
   "pygments_lexer": "ipython3",
   "version": "3.9.13"
  }
 },
 "nbformat": 4,
 "nbformat_minor": 5
}
