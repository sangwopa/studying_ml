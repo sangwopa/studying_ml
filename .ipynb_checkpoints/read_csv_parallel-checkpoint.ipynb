{
 "cells": [
  {
   "cell_type": "code",
   "execution_count": 1,
   "id": "825a8e6d",
   "metadata": {},
   "outputs": [
    {
     "name": "stdout",
     "output_type": "stream",
     "text": [
      "12\n"
     ]
    }
   ],
   "source": [
    "import multiprocessing as mp\n",
    "\n",
    "print(mp.cpu_count())"
   ]
  },
  {
   "cell_type": "code",
   "execution_count": null,
   "id": "72e0031b",
   "metadata": {},
   "outputs": [],
   "source": [
    "import pandas as pd\n",
    "from multiprocessing import Pool\n",
    "\n",
    "def read_csv(file_path):\n",
    "    return pd.read_csv(file_path)\n",
    "\n",
    "if __name__ == '__main__':\n",
    "    # Define file paths to read in parallel\n",
    "    file_paths = ['file1.csv', 'file2.csv', 'file3.csv']\n",
    "    \n",
    "    # Define the number of processes to use\n",
    "    num_processes = 3\n",
    "    \n",
    "    # Create a pool of processes\n",
    "    pool = Pool(processes=num_processes)\n",
    "    \n",
    "    # Read CSV data in parallel using the pool\n",
    "    dataframes = pool.map(read_csv, file_paths)\n",
    "    \n",
    "    # Close the pool of processes\n",
    "    pool.close()\n",
    "    \n",
    "    # Merge the dataframes\n",
    "    merged_dataframe = pd.concat(dataframes, axis=0)\n"
   ]
  }
 ],
 "metadata": {
  "kernelspec": {
   "display_name": "Python 3 (ipykernel)",
   "language": "python",
   "name": "python3"
  },
  "language_info": {
   "codemirror_mode": {
    "name": "ipython",
    "version": 3
   },
   "file_extension": ".py",
   "mimetype": "text/x-python",
   "name": "python",
   "nbconvert_exporter": "python",
   "pygments_lexer": "ipython3",
   "version": "3.9.13"
  }
 },
 "nbformat": 4,
 "nbformat_minor": 5
}
