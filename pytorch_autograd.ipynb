{
 "cells": [
  {
   "cell_type": "code",
   "execution_count": 1,
   "id": "74b7efd5",
   "metadata": {},
   "outputs": [
    {
     "name": "stdout",
     "output_type": "stream",
     "text": [
      "tensor([1., 1., 1., 1., 1.])\n",
      "tensor([0., 0., 0.])\n",
      "tensor([[ 0.1850, -0.4229,  1.8672],\n",
      "        [ 0.9487,  0.7908, -0.7150],\n",
      "        [-1.9844, -0.3549,  1.5571],\n",
      "        [ 0.0834, -0.1145,  0.5466],\n",
      "        [ 0.3993, -0.2923, -0.2442]], requires_grad=True)\n",
      "tensor([-0.3540, -1.0065,  0.2863], requires_grad=True)\n",
      "tensor([-0.7220, -1.4002,  3.2979], grad_fn=<AddBackward0>)\n"
     ]
    }
   ],
   "source": [
    "# 신경망 학습 시, 매개변수는 주어진 매개변수에 대한 손실함수 변화도(Gradient)에 따라 조정됨\n",
    "# 이러한 변화도 계산을 위해 pytorch에서는 torch.autograd라는 자동미분 엔진 내장\n",
    "import torch\n",
    "x = torch.ones(5) # 입력\n",
    "y = torch.zeros(3) # 기대 출력\n",
    "w = torch.randn(5, 3, requires_grad=True) # 가중치\n",
    "b = torch.randn(3, requires_grad=True) # 편향\n",
    "z = torch.matmul(x, w) + b\n",
    "print(x)\n",
    "print(y)\n",
    "print(w)\n",
    "print(b)\n",
    "print(z)"
   ]
  },
  {
   "cell_type": "code",
   "execution_count": 2,
   "id": "e51f0ce0",
   "metadata": {},
   "outputs": [
    {
     "data": {
      "text/plain": [
       "tensor(1.3168, grad_fn=<BinaryCrossEntropyWithLogitsBackward0>)"
      ]
     },
     "execution_count": 2,
     "metadata": {},
     "output_type": "execute_result"
    }
   ],
   "source": [
    "loss = torch.nn.functional.binary_cross_entropy_with_logits(z, y)\n",
    "loss"
   ]
  },
  {
   "cell_type": "code",
   "execution_count": null,
   "id": "e90a83b6",
   "metadata": {},
   "outputs": [],
   "source": []
  }
 ],
 "metadata": {
  "kernelspec": {
   "display_name": "Python 3 (ipykernel)",
   "language": "python",
   "name": "python3"
  },
  "language_info": {
   "codemirror_mode": {
    "name": "ipython",
    "version": 3
   },
   "file_extension": ".py",
   "mimetype": "text/x-python",
   "name": "python",
   "nbconvert_exporter": "python",
   "pygments_lexer": "ipython3",
   "version": "3.9.13"
  }
 },
 "nbformat": 4,
 "nbformat_minor": 5
}
