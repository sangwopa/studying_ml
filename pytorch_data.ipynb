{
 "cells": [
  {
   "cell_type": "code",
   "execution_count": 1,
   "id": "0205b1e4",
   "metadata": {},
   "outputs": [],
   "source": [
    "# Dataset: 샘플과 정답(lable)을 제공\n",
    "# DataLoader: 샘플에 쉽게 접근할수 있도록 순회 가능한 객체로 제공\n",
    "import torch\n",
    "from torch.utils.data import Dataset\n",
    "from torchvision import datasets\n",
    "from torchvision.transforms import ToTensor\n",
    "import matplotlib.pyplot as plt"
   ]
  },
  {
   "cell_type": "code",
   "execution_count": 2,
   "id": "f47f3589",
   "metadata": {},
   "outputs": [
    {
     "name": "stdout",
     "output_type": "stream",
     "text": [
      "Dataset FashionMNIST\n",
      "    Number of datapoints: 60000\n",
      "    Root location: ./content/data_fashionmnist\n",
      "    Split: Train\n",
      "    StandardTransform\n",
      "Transform: ToTensor()\n",
      "Dataset FashionMNIST\n",
      "    Number of datapoints: 10000\n",
      "    Root location: ./content/data_fashionmnist\n",
      "    Split: Test\n",
      "    StandardTransform\n",
      "Transform: ToTensor()\n"
     ]
    }
   ],
   "source": [
    "# 데이터 셋 다운로드 혹은 load 하기\n",
    "# 이전에 받아놓은 FashinMNIST 데이터셋 사용\n",
    "training_data = datasets.FashionMNIST(\n",
    "    root = \"./content/data_fashionmnist\",\n",
    "    train = True,\n",
    "    download = False,\n",
    "    transform = ToTensor()\n",
    ")\n",
    "\n",
    "test_data = datasets.FashionMNIST(\n",
    "    root = \"./content/data_fashionmnist\",\n",
    "    train = False,\n",
    "    download = False,\n",
    "    transform = ToTensor()\n",
    ")\n",
    "\n",
    "print(training_data)\n",
    "print(test_data)"
   ]
  },
  {
   "cell_type": "code",
   "execution_count": 3,
   "id": "44487871",
   "metadata": {},
   "outputs": [
    {
     "name": "stdout",
     "output_type": "stream",
     "text": [
      "tensor([9, 0, 0, 3, 0, 2, 7, 2, 5, 5])\n"
     ]
    },
    {
     "name": "stderr",
     "output_type": "stream",
     "text": [
      "C:\\Users\\user\\anaconda3\\lib\\site-packages\\torchvision\\datasets\\mnist.py:65: UserWarning: train_labels has been renamed targets\n",
      "  warnings.warn(\"train_labels has been renamed targets\")\n"
     ]
    }
   ],
   "source": [
    "# 정답(lablel) data\n",
    "print(training_data.train_labels[:10])"
   ]
  },
  {
   "cell_type": "code",
   "execution_count": 6,
   "id": "3c929463",
   "metadata": {},
   "outputs": [
    {
     "name": "stdout",
     "output_type": "stream",
     "text": [
      "['T-shirt/top', 'Trouser', 'Pullover', 'Dress', 'Coat', 'Sandal', 'Shirt', 'Sneaker', 'Bag', 'Ankle boot']\n"
     ]
    }
   ],
   "source": [
    "# Label들 해당  class\n",
    "print(training_data.classes)"
   ]
  },
  {
   "cell_type": "code",
   "execution_count": 4,
   "id": "5849dc40",
   "metadata": {},
   "outputs": [
    {
     "data": {
      "text/plain": [
       "19768"
      ]
     },
     "execution_count": 4,
     "metadata": {},
     "output_type": "execute_result"
    }
   ],
   "source": [
    "sample_idx = torch.randint(len(training_data), size=(1,)).item()\n",
    "\n",
    "sample_idx"
   ]
  },
  {
   "cell_type": "code",
   "execution_count": 5,
   "id": "71d6260b",
   "metadata": {},
   "outputs": [
    {
     "data": {
      "image/png": "[encoded data removed]",
      "text/plain": [
       "<Figure size 800x800 with 9 Axes>"
      ]
     },
     "metadata": {},
     "output_type": "display_data"
    }
   ],
   "source": [
    "import os    \n",
    "os.environ['KMP_DUPLICATE_LIB_OK']='True'\n",
    "\n",
    "# 데이터 셋 순회 및 시각화\n",
    "labels_map = {\n",
    "    0: \"T-Shirt\",\n",
    "    1: \"Trouser\",\n",
    "    2: \"Pullover\",\n",
    "    3: \"Dress\",\n",
    "    4: \"Coat\",\n",
    "    5: \"Sandal\",\n",
    "    6: \"Shirt\",\n",
    "    7: \"Sneaker\",\n",
    "    8: \"Bag\",\n",
    "    9: \"Ankle Boot\",\n",
    "}\n",
    "\n",
    "figure = plt.figure(figsize=(8, 8))\n",
    "\n",
    "cols, rows = 3, 3\n",
    "\n",
    "for i in range(1, cols*rows+1):\n",
    "    sample_idx = torch.randint(len(training_data), size=(1,)).item()\n",
    "    img, label = training_data[sample_idx]\n",
    "    figure.add_subplot(rows, cols, i)\n",
    "    plt.title(labels_map[label])\n",
    "    plt.axis(\"off\")\n",
    "    plt.imshow(img.squeeze(), cmap=\"gray\")\n",
    "    \n",
    "plt.show()"
   ]
  },
  {
   "cell_type": "code",
   "execution_count": 8,
   "id": "728b4f8a",
   "metadata": {},
   "outputs": [],
   "source": [
    "# 사용자 정의 데이터 셋 만들기\n",
    "# Dataset 클래스는 반드시 __init__, __len__, __getitem__ 3개의 함수를 구현해야 함\n",
    "# 이미지들은 img_dir 폴더에, label 들은 annotations_file csv 파일로 저장됨\n",
    "import os\n",
    "import pandas as pd\n",
    "from torchvision.io import read_image\n",
    "\n",
    "class CustomImageDataset(Dataset):\n",
    "    # 객체가 생성될 때 한번만 실행\n",
    "    def __init__(self, annotations_file, img_dir, transform=None, target_transform=None):\n",
    "        self.img_lables = pd.read_csv(annotations_file, names=['file_name', 'lable'])\n",
    "        self.img_dir = img_dir\n",
    "        self.transform = transform\n",
    "        self.target_transform = target_transform\n",
    "    \n",
    "    # 데이터 셋의 샘플 개수 반환\n",
    "    def __len__(self):\n",
    "        return len(self.img_lables)\n",
    "    \n",
    "    # 주어진 idx에 해당하는 샘플데이터 반환\n",
    "    def __getitem__(self, idx):\n",
    "        img_path = os.path.join(self.img_dir, self.img_lables.iloc[idx, 0])\n",
    "        image = read_image(img_path) # 이미지를 tensor로 변환\n",
    "        label = self.img_lables.ilococ[idx, 1]\n",
    "        if self.transform:\n",
    "            image = self.transform(img)\n",
    "        if self.target_transform:\n",
    "            label = self.target_transform(label)\n",
    "        return image, label"
   ]
  },
  {
   "cell_type": "code",
   "execution_count": 9,
   "id": "ffc0429e",
   "metadata": {},
   "outputs": [],
   "source": [
    "# DataLoader 사용\n",
    "from torch.utils.data import DataLoader\n",
    "\n",
    "train_dataloader = DataLoader(training_data, batch_size=64, shuffle=True)\n",
    "test_dataloader = DataLoader(test_data, batch_size=64, shuffle=True)"
   ]
  },
  {
   "cell_type": "code",
   "execution_count": 10,
   "id": "7dd97e46",
   "metadata": {},
   "outputs": [
    {
     "name": "stdout",
     "output_type": "stream",
     "text": [
      "<torch.utils.data.dataloader.DataLoader object at 0x0000020F4679D520>\n",
      "<torch.utils.data.dataloader.DataLoader object at 0x0000020F4679DA00>\n"
     ]
    }
   ],
   "source": [
    "print(train_dataloader.)\n",
    "print(test_dataloader)"
   ]
  },
  {
   "cell_type": "code",
   "execution_count": 11,
   "id": "75cde447",
   "metadata": {},
   "outputs": [
    {
     "name": "stdout",
     "output_type": "stream",
     "text": [
      "tensor([[[[0.0000, 0.0000, 0.0000,  ..., 0.0000, 0.0000, 0.0000],\n",
      "          [0.0000, 0.0000, 0.0000,  ..., 0.0000, 0.0000, 0.0000],\n",
      "          [0.0000, 0.0000, 0.0000,  ..., 0.0000, 0.0000, 0.0000],\n",
      "          ...,\n",
      "          [0.0000, 0.0000, 0.0000,  ..., 0.0000, 0.0000, 0.0000],\n",
      "          [0.0000, 0.0000, 0.0039,  ..., 0.0000, 0.0000, 0.0000],\n",
      "          [0.0000, 0.0000, 0.0039,  ..., 0.0039, 0.0000, 0.0000]]],\n",
      "\n",
      "\n",
      "        [[[0.0000, 0.0000, 0.0000,  ..., 0.0000, 0.0000, 0.0000],\n",
      "          [0.0000, 0.0000, 0.0000,  ..., 0.0000, 0.0000, 0.0000],\n",
      "          [0.0000, 0.0000, 0.0000,  ..., 0.0000, 0.0000, 0.0000],\n",
      "          ...,\n",
      "          [0.0000, 0.0000, 0.0000,  ..., 0.0000, 0.0000, 0.0000],\n",
      "          [0.0000, 0.0000, 0.0000,  ..., 0.0000, 0.0000, 0.0000],\n",
      "          [0.0000, 0.0000, 0.0000,  ..., 0.0000, 0.0000, 0.0000]]],\n",
      "\n",
      "\n",
      "        [[[0.0000, 0.0000, 0.0000,  ..., 0.0000, 0.0000, 0.0000],\n",
      "          [0.0000, 0.0000, 0.0000,  ..., 0.0000, 0.0000, 0.0000],\n",
      "          [0.0000, 0.0000, 0.0000,  ..., 0.0000, 0.0000, 0.0000],\n",
      "          ...,\n",
      "          [0.0000, 0.0000, 0.0000,  ..., 0.0000, 0.0000, 0.0000],\n",
      "          [0.0000, 0.0000, 0.0000,  ..., 0.0000, 0.0000, 0.0000],\n",
      "          [0.0000, 0.0000, 0.0000,  ..., 0.0000, 0.0000, 0.0000]]],\n",
      "\n",
      "\n",
      "        ...,\n",
      "\n",
      "\n",
      "        [[[0.0000, 0.0000, 0.0000,  ..., 0.0000, 0.0000, 0.0000],\n",
      "          [0.0000, 0.0000, 0.0000,  ..., 0.0000, 0.0000, 0.0000],\n",
      "          [0.0000, 0.0000, 0.0000,  ..., 0.0000, 0.0000, 0.0000],\n",
      "          ...,\n",
      "          [0.0000, 0.0000, 0.0000,  ..., 0.0000, 0.0000, 0.0000],\n",
      "          [0.0000, 0.0000, 0.0000,  ..., 0.0000, 0.0000, 0.0000],\n",
      "          [0.0000, 0.0000, 0.0000,  ..., 0.0000, 0.0000, 0.0000]]],\n",
      "\n",
      "\n",
      "        [[[0.0000, 0.0000, 0.0000,  ..., 0.0000, 0.0000, 0.0000],\n",
      "          [0.0000, 0.0000, 0.0000,  ..., 0.0000, 0.0000, 0.0000],\n",
      "          [0.0000, 0.0000, 0.0000,  ..., 0.0000, 0.0000, 0.0000],\n",
      "          ...,\n",
      "          [0.0000, 0.0000, 0.2510,  ..., 0.7882, 0.7529, 0.2275],\n",
      "          [0.0000, 0.0000, 0.0314,  ..., 0.0000, 0.0000, 0.0000],\n",
      "          [0.0000, 0.0000, 0.0000,  ..., 0.0000, 0.0000, 0.0000]]],\n",
      "\n",
      "\n",
      "        [[[0.0000, 0.0000, 0.0000,  ..., 0.0000, 0.0000, 0.0000],\n",
      "          [0.0000, 0.0000, 0.0000,  ..., 0.0000, 0.0000, 0.0039],\n",
      "          [0.0000, 0.0000, 0.0000,  ..., 0.0235, 0.0000, 0.0118],\n",
      "          ...,\n",
      "          [0.0000, 0.0863, 0.4275,  ..., 0.9490, 0.1843, 0.0000],\n",
      "          [0.0000, 0.0000, 0.0000,  ..., 0.3451, 0.0157, 0.0000],\n",
      "          [0.0000, 0.0000, 0.0000,  ..., 0.0000, 0.0000, 0.0000]]]])\n",
      "tensor([8, 6, 2, 8, 9, 5, 5, 2, 7, 4, 4, 1, 0, 0, 6, 9, 5, 5, 6, 7, 3, 4, 8, 6,\n",
      "        0, 5, 0, 6, 3, 8, 1, 8, 3, 7, 8, 5, 9, 2, 6, 9, 6, 0, 4, 0, 1, 5, 8, 8,\n",
      "        0, 7, 0, 4, 1, 5, 8, 7, 6, 2, 7, 6, 8, 1, 8, 9])\n"
     ]
    }
   ],
   "source": [
    "# dataloader로 data 순회하기\n",
    "train_features, train_labels = next(iter(train_dataloader))\n",
    "print(train_features)\n",
    "print(train_labels)"
   ]
  },
  {
   "cell_type": "code",
   "execution_count": 12,
   "id": "5d29534e",
   "metadata": {},
   "outputs": [
    {
     "name": "stdout",
     "output_type": "stream",
     "text": [
      "Feature batch shape: torch.Size([64, 1, 28, 28])\n",
      "Labels batch shape: torch.Size([64])\n"
     ]
    }
   ],
   "source": [
    "print(f\"Feature batch shape: {train_features.size()}\")\n",
    "print(f\"Labels batch shape: {train_labels.size()}\")"
   ]
  },
  {
   "cell_type": "code",
   "execution_count": 13,
   "id": "a0b020cc",
   "metadata": {},
   "outputs": [
    {
     "name": "stdout",
     "output_type": "stream",
     "text": [
      "tensor([[0.0000, 0.0000, 0.0000, 0.0000, 0.0000, 0.0000, 0.0000, 0.0000, 0.0000,\n",
      "         0.0000, 0.0039, 0.0000, 0.0000, 0.4196, 0.3647, 0.0000, 0.0000, 0.0039,\n",
      "         0.0000, 0.0000, 0.0000, 0.0000, 0.0000, 0.0000, 0.0000, 0.0000, 0.0000,\n",
      "         0.0000],\n",
      "        [0.0000, 0.0000, 0.0000, 0.0000, 0.0000, 0.0000, 0.0000, 0.0000, 0.0000,\n",
      "         0.0000, 0.0078, 0.0000, 0.5216, 0.0275, 0.4118, 0.5255, 0.0000, 0.0235,\n",
      "         0.0000, 0.0000, 0.0000, 0.0000, 0.0000, 0.0000, 0.0000, 0.0000, 0.0000,\n",
      "         0.0000],\n",
      "        [0.0000, 0.0000, 0.0000, 0.0000, 0.0000, 0.0000, 0.0000, 0.0000, 0.0000,\n",
      "         0.0157, 0.0000, 0.0941, 0.7294, 0.0000, 0.0275, 0.8706, 0.0784, 0.0000,\n",
      "         0.0078, 0.0000, 0.0000, 0.0000, 0.0000, 0.0000, 0.0000, 0.0000, 0.0000,\n",
      "         0.0000],\n",
      "        [0.0000, 0.0000, 0.0000, 0.0000, 0.0000, 0.0000, 0.0000, 0.0000, 0.0000,\n",
      "         0.0235, 0.0000, 0.3608, 0.5569, 0.0000, 0.0000, 0.7373, 0.4196, 0.0000,\n",
      "         0.0275, 0.0000, 0.0000, 0.0000, 0.0000, 0.0000, 0.0000, 0.0000, 0.0000,\n",
      "         0.0000],\n",
      "        [0.0000, 0.0000, 0.0000, 0.0000, 0.0000, 0.0000, 0.0000, 0.0000, 0.0000,\n",
      "         0.0118, 0.0000, 0.5882, 0.1961, 0.0000, 0.0000, 0.4196, 0.6824, 0.0000,\n",
      "         0.0157, 0.0000, 0.0000, 0.0000, 0.0000, 0.0000, 0.0000, 0.0000, 0.0000,\n",
      "         0.0000],\n",
      "        [0.0000, 0.0000, 0.0000, 0.0000, 0.0000, 0.0000, 0.0000, 0.0000, 0.0039,\n",
      "         0.0000, 0.0000, 0.6706, 0.0000, 0.0000, 0.0000, 0.0235, 0.7765, 0.0000,\n",
      "         0.0000, 0.0157, 0.0000, 0.0000, 0.0000, 0.0000, 0.0000, 0.0000, 0.0000,\n",
      "         0.0000],\n",
      "        [0.0000, 0.0000, 0.0000, 0.0000, 0.0000, 0.0000, 0.0000, 0.0000, 0.0157,\n",
      "         0.0000, 0.2627, 0.6157, 0.0000, 0.0000, 0.0000, 0.0000, 0.6941, 0.2118,\n",
      "         0.0000, 0.0314, 0.0000, 0.0000, 0.0000, 0.0000, 0.0000, 0.0000, 0.0000,\n",
      "         0.0000],\n",
      "        [0.0000, 0.0000, 0.0000, 0.0000, 0.0000, 0.0000, 0.0000, 0.0000, 0.0275,\n",
      "         0.0000, 0.4863, 0.4314, 0.0000, 0.0078, 0.0000, 0.0000, 0.5255, 0.3843,\n",
      "         0.0000, 0.0275, 0.0000, 0.0000, 0.0000, 0.0000, 0.0000, 0.0000, 0.0000,\n",
      "         0.0000],\n",
      "        [0.0000, 0.0000, 0.0000, 0.0000, 0.0000, 0.0000, 0.0000, 0.0000, 0.0118,\n",
      "         0.0000, 0.5843, 0.2431, 0.0000, 0.0039, 0.0235, 0.0000, 0.3176, 0.5020,\n",
      "         0.0000, 0.0275, 0.0000, 0.0000, 0.0000, 0.0000, 0.0000, 0.0000, 0.0000,\n",
      "         0.0000],\n",
      "        [0.0000, 0.0000, 0.0000, 0.0000, 0.0000, 0.0000, 0.0000, 0.0039, 0.0000,\n",
      "         0.0000, 0.6118, 0.0118, 0.0000, 0.0078, 0.0118, 0.0000, 0.0941, 0.5843,\n",
      "         0.0000, 0.0000, 0.0039, 0.0000, 0.0000, 0.0000, 0.0000, 0.0000, 0.0000,\n",
      "         0.0000],\n",
      "        [0.0000, 0.0000, 0.0000, 0.0000, 0.0000, 0.0000, 0.0000, 0.0118, 0.0000,\n",
      "         0.0667, 0.6196, 0.0000, 0.0000, 0.0000, 0.0000, 0.0000, 0.0000, 0.5961,\n",
      "         0.0431, 0.0000, 0.0078, 0.0000, 0.0000, 0.0000, 0.0000, 0.0000, 0.0000,\n",
      "         0.0000],\n",
      "        [0.0000, 0.0000, 0.0039, 0.0118, 0.0039, 0.0078, 0.0118, 0.0235, 0.0000,\n",
      "         0.2157, 0.9490, 0.0000, 0.0157, 0.0078, 0.0157, 0.0078, 0.0000, 0.8275,\n",
      "         0.3255, 0.0000, 0.0275, 0.0118, 0.0118, 0.0275, 0.0275, 0.0118, 0.0000,\n",
      "         0.0000],\n",
      "        [0.0000, 0.0000, 0.0000, 0.0000, 0.0000, 0.0000, 0.0000, 0.0000, 0.0000,\n",
      "         0.2314, 0.8549, 0.0000, 0.0000, 0.0000, 0.0000, 0.0000, 0.0000, 0.6980,\n",
      "         0.4706, 0.0000, 0.0000, 0.0000, 0.0000, 0.0000, 0.0000, 0.0000, 0.0000,\n",
      "         0.0000],\n",
      "        [0.0000, 0.0000, 0.2314, 0.5137, 0.4941, 0.4667, 0.4510, 0.4667, 0.3412,\n",
      "         0.6510, 0.7412, 0.2588, 0.4078, 0.3765, 0.3647, 0.3804, 0.2510, 0.7137,\n",
      "         0.6706, 0.2196, 0.3569, 0.2824, 0.2745, 0.2627, 0.3255, 0.0902, 0.0000,\n",
      "         0.0000],\n",
      "        [0.0000, 0.0000, 0.5765, 0.9451, 0.8196, 0.8824, 0.8863, 0.8863, 0.8902,\n",
      "         0.8549, 0.8471, 0.8980, 0.9059, 0.9098, 0.9176, 0.9216, 0.9294, 0.8667,\n",
      "         0.8667, 0.8863, 0.8863, 0.9020, 0.8863, 0.8863, 0.8980, 0.3843, 0.0000,\n",
      "         0.0000],\n",
      "        [0.0000, 0.0000, 0.3020, 0.9059, 0.7451, 0.7961, 0.8039, 0.8078, 0.8078,\n",
      "         0.8157, 0.8196, 0.8275, 0.7137, 0.4118, 0.4235, 0.5922, 0.8157, 0.8235,\n",
      "         0.8353, 0.8078, 0.8039, 0.8039, 0.8039, 0.8157, 0.7647, 0.1882, 0.0000,\n",
      "         0.0000],\n",
      "        [0.0000, 0.0000, 0.2745, 0.9412, 0.7804, 0.8157, 0.8392, 0.8392, 0.8275,\n",
      "         0.8196, 0.8235, 0.8275, 0.8627, 0.9176, 0.9098, 0.8549, 0.7961, 0.8157,\n",
      "         0.8196, 0.7961, 0.8157, 0.8078, 0.8157, 0.8275, 0.7961, 0.1725, 0.0000,\n",
      "         0.0000],\n",
      "        [0.0000, 0.0000, 0.0980, 0.9451, 0.8039, 0.8196, 0.8392, 0.8275, 0.8039,\n",
      "         0.8039, 0.8157, 0.8235, 0.8196, 0.7843, 0.7843, 0.7804, 0.7843, 0.7843,\n",
      "         0.7922, 0.8039, 0.8078, 0.7961, 0.8157, 0.8039, 0.7529, 0.1373, 0.0000,\n",
      "         0.0000],\n",
      "        [0.0000, 0.0000, 0.0000, 0.9176, 0.8196, 0.8196, 0.8471, 0.8235, 0.8000,\n",
      "         0.8078, 0.8235, 0.8275, 0.8235, 0.8078, 0.8078, 0.8078, 0.8039, 0.8078,\n",
      "         0.8157, 0.8157, 0.8275, 0.8196, 0.8039, 0.7373, 0.7569, 0.1059, 0.0000,\n",
      "         0.0000],\n",
      "        [0.0000, 0.0000, 0.0000, 0.9961, 0.8588, 0.8275, 0.8627, 0.8353, 0.8275,\n",
      "         0.8353, 0.8392, 0.8353, 0.8157, 0.8157, 0.8196, 0.8275, 0.8353, 0.8392,\n",
      "         0.8392, 0.8353, 0.8392, 0.8275, 0.7765, 0.6902, 0.7725, 0.0235, 0.0000,\n",
      "         0.0000],\n",
      "        [0.0000, 0.0000, 0.0000, 0.8471, 0.8902, 0.8196, 0.8431, 0.8275, 0.8471,\n",
      "         0.8471, 0.8392, 0.8353, 0.8078, 0.8157, 0.8275, 0.8431, 0.8549, 0.8471,\n",
      "         0.8549, 0.8549, 0.8471, 0.8549, 0.7608, 0.7176, 0.8235, 0.0000, 0.0000,\n",
      "         0.0000],\n",
      "        [0.0000, 0.0000, 0.0000, 0.5961, 0.9098, 0.7961, 0.8078, 0.7961, 0.8157,\n",
      "         0.8353, 0.8275, 0.8039, 0.7922, 0.8000, 0.8196, 0.8392, 0.8431, 0.8627,\n",
      "         0.8627, 0.8627, 0.8706, 0.8431, 0.7294, 0.7608, 0.8392, 0.0000, 0.0000,\n",
      "         0.0000],\n",
      "        [0.0000, 0.0000, 0.0000, 0.4118, 0.9333, 0.7529, 0.7098, 0.6941, 0.6941,\n",
      "         0.6902, 0.7098, 0.7412, 0.7765, 0.7843, 0.7961, 0.8078, 0.8078, 0.8196,\n",
      "         0.8157, 0.7961, 0.8078, 0.7725, 0.5098, 0.5490, 0.6275, 0.0000, 0.0000,\n",
      "         0.0000],\n",
      "        [0.0000, 0.0000, 0.0000, 0.3137, 0.9922, 0.8549, 0.8902, 0.8902, 0.8863,\n",
      "         0.8824, 0.8902, 0.9059, 0.9176, 0.9020, 0.9098, 0.9255, 0.9216, 0.9255,\n",
      "         0.9255, 0.9176, 0.9216, 0.9333, 0.7569, 0.6784, 0.6118, 0.0000, 0.0000,\n",
      "         0.0000],\n",
      "        [0.0000, 0.0000, 0.0000, 0.1804, 0.9412, 0.8706, 0.8627, 0.8784, 0.8627,\n",
      "         0.8471, 0.8549, 0.8549, 0.8549, 0.8549, 0.8588, 0.8667, 0.8627, 0.8549,\n",
      "         0.8588, 0.8627, 0.8627, 0.8667, 0.8353, 0.7961, 0.4902, 0.0000, 0.0000,\n",
      "         0.0000],\n",
      "        [0.0000, 0.0000, 0.0000, 0.0000, 0.6980, 0.9451, 0.8392, 0.8824, 0.8706,\n",
      "         0.8706, 0.8667, 0.8784, 0.8784, 0.8980, 0.9020, 0.8980, 0.8980, 0.8980,\n",
      "         0.9020, 0.9020, 0.9098, 0.8902, 0.8471, 0.8353, 0.0667, 0.0000, 0.0000,\n",
      "         0.0000],\n",
      "        [0.0000, 0.0000, 0.0039, 0.0000, 0.2196, 0.9608, 0.8353, 0.8667, 0.8667,\n",
      "         0.8863, 0.8980, 0.8902, 0.8902, 0.9059, 0.9098, 0.9059, 0.9098, 0.8980,\n",
      "         0.8980, 0.9020, 0.9020, 0.8902, 0.8471, 0.4824, 0.0000, 0.0000, 0.0000,\n",
      "         0.0000],\n",
      "        [0.0000, 0.0000, 0.0039, 0.0000, 0.0000, 0.8784, 0.8353, 0.8275, 0.8431,\n",
      "         0.8353, 0.8275, 0.8275, 0.8196, 0.8353, 0.8392, 0.8353, 0.8353, 0.8431,\n",
      "         0.8471, 0.8549, 0.8431, 0.8824, 0.8078, 0.1686, 0.0000, 0.0039, 0.0000,\n",
      "         0.0000]])\n",
      "tensor(8)\n"
     ]
    }
   ],
   "source": [
    "img = train_features[0].squeeze()\n",
    "label = train_labels[0]\n",
    "print(img)\n",
    "print(label)"
   ]
  },
  {
   "cell_type": "code",
   "execution_count": 14,
   "id": "7105dfdd",
   "metadata": {},
   "outputs": [
    {
     "data": {
      "image/png": "[encoded data removed]",
      "text/plain": [
       "<Figure size 640x480 with 1 Axes>"
      ]
     },
     "metadata": {},
     "output_type": "display_data"
    },
    {
     "name": "stdout",
     "output_type": "stream",
     "text": [
      "Label: 8\n"
     ]
    }
   ],
   "source": [
    "plt.imshow(img, cmap=\"gray\")\n",
    "plt.show()\n",
    "print(f\"Label: {label}\")"
   ]
  },
  {
   "cell_type": "code",
   "execution_count": null,
   "id": "cff2e924",
   "metadata": {},
   "outputs": [],
   "source": []
  }
 ],
 "metadata": {
  "kernelspec": {
   "display_name": "Python 3 (ipykernel)",
   "language": "python",
   "name": "python3"
  },
  "language_info": {
   "codemirror_mode": {
    "name": "ipython",
    "version": 3
   },
   "file_extension": ".py",
   "mimetype": "text/x-python",
   "name": "python",
   "nbconvert_exporter": "python",
   "pygments_lexer": "ipython3",
   "version": "3.9.13"
  }
 },
 "nbformat": 4,
 "nbformat_minor": 5
}
